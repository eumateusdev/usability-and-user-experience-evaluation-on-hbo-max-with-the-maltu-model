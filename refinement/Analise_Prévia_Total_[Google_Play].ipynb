{
  "nbformat": 4,
  "nbformat_minor": 0,
  "metadata": {
    "colab": {
      "provenance": []
    },
    "kernelspec": {
      "name": "python3",
      "display_name": "Python 3"
    },
    "language_info": {
      "name": "python"
    }
  },
  "cells": [
    {
      "cell_type": "code",
      "execution_count": null,
      "metadata": {
        "id": "OyirpUNpkZ8J"
      },
      "outputs": [],
      "source": [
        "import pandas as pd"
      ]
    },
    {
      "cell_type": "code",
      "source": [
        "classificacao = pd.read_csv('/content/drive/MyDrive/Planilhas - Google Play/[V2]Classificação [googleplay] - Classificação [Python].csv')"
      ],
      "metadata": {
        "id": "bIFdpR6fkhfP"
      },
      "execution_count": null,
      "outputs": []
    },
    {
      "cell_type": "code",
      "source": [
        "classificacao"
      ],
      "metadata": {
        "colab": {
          "base_uri": "https://localhost:8080/",
          "height": 580
        },
        "id": "DaCvxKRskiIJ",
        "outputId": "2d696b7e-4d5a-4db1-8fe1-73e9959b6214"
      },
      "execution_count": null,
      "outputs": [
        {
          "output_type": "execute_result",
          "data": {
            "text/plain": [
              "       ID                                          Comentário      Tipo  \\\n",
              "0        1              Amo o catálogo, repleto de maravilhas    Elogio   \n",
              "1        2  Esta sendo horrível , não consigo entrar na mi...   Crítica   \n",
              "2        3  Como assim precisa de internet pra assistir um...    Dúvida   \n",
              "3        4  App muito ruim,por mais que nao goste da Netfl...   Crítica   \n",
              "4        5  Péssimo vc não consegui mais entrar na conta p...   Crítica   \n",
              "...    ...                                                ...       ...   \n",
              "1228  1229  mas fica com imagem apagada e distorcida ao re...   Crítica   \n",
              "1229  1230  porém precisaria melhorar quando saímos e volt...   Crítica   \n",
              "1230  1231                         Mas o catálogo é muito bom    Elogio   \n",
              "1231  1232  ele não tem pic in picture como outros... isso...  Sugestão   \n",
              "1232  1233  mas do nada, o aplicativo parou de funcionar, ...   Crítica   \n",
              "\n",
              "                               F1   F2   F3   F4        A1   A2   A3  \\\n",
              "0                        Catálogo  NaN  NaN  NaN   Celular  NaN  NaN   \n",
              "1                           Login  NaN  NaN  NaN   Celular  NaN  NaN   \n",
              "2     Reprodução de vídeo baixado  NaN  NaN  NaN   Celular  NaN  NaN   \n",
              "3                Sistema em geral  NaN  NaN  NaN   Celular  NaN  NaN   \n",
              "4                           Login  NaN  NaN  NaN   Celular  NaN  NaN   \n",
              "...                           ...  ...  ...  ...       ...  ...  ...   \n",
              "1228          Reprodução de vídeo  NaN  NaN  NaN  Smart TV  NaN  NaN   \n",
              "1229                         Rede  NaN  NaN  NaN   Celular  NaN  NaN   \n",
              "1230                     Catálogo  NaN  NaN  NaN   Celular  NaN  NaN   \n",
              "1231           Picture-in-picture  NaN  NaN  NaN   Celular  NaN  NaN   \n",
              "1232            Incompatibilidade  NaN  NaN  NaN  Smart TV  NaN  NaN   \n",
              "\n",
              "     Sentimento      CQUU1      CQUU2 CQUU3      CQUUX1  \n",
              "0      Positivo   Eficácia        NaN   NaN  Satisfação  \n",
              "1      Negativo   Eficácia  Utilidade   NaN  Frustração  \n",
              "2        Neutro  Utilidade        NaN   NaN  Frustração  \n",
              "3      Negativo   Eficácia  Utilidade   NaN  Frustração  \n",
              "4      Negativo   Eficácia        NaN   NaN  Frustração  \n",
              "...         ...        ...        ...   ...         ...  \n",
              "1228   Negativo   Eficácia        NaN   NaN  Frustração  \n",
              "1229   Negativo   Eficácia        NaN   NaN  Frustração  \n",
              "1230   Positivo   Eficácia        NaN   NaN  Satisfação  \n",
              "1231     Neutro  Utilidade        NaN   NaN    Estética  \n",
              "1232   Negativo  Utilidade        NaN   NaN  Frustração  \n",
              "\n",
              "[1233 rows x 15 columns]"
            ],
            "text/html": [
              "\n",
              "  <div id=\"df-8ff1c926-363c-4882-9ea3-a742892e6a8b\" class=\"colab-df-container\">\n",
              "    <div>\n",
              "<style scoped>\n",
              "    .dataframe tbody tr th:only-of-type {\n",
              "        vertical-align: middle;\n",
              "    }\n",
              "\n",
              "    .dataframe tbody tr th {\n",
              "        vertical-align: top;\n",
              "    }\n",
              "\n",
              "    .dataframe thead th {\n",
              "        text-align: right;\n",
              "    }\n",
              "</style>\n",
              "<table border=\"1\" class=\"dataframe\">\n",
              "  <thead>\n",
              "    <tr style=\"text-align: right;\">\n",
              "      <th></th>\n",
              "      <th>ID</th>\n",
              "      <th>Comentário</th>\n",
              "      <th>Tipo</th>\n",
              "      <th>F1</th>\n",
              "      <th>F2</th>\n",
              "      <th>F3</th>\n",
              "      <th>F4</th>\n",
              "      <th>A1</th>\n",
              "      <th>A2</th>\n",
              "      <th>A3</th>\n",
              "      <th>Sentimento</th>\n",
              "      <th>CQUU1</th>\n",
              "      <th>CQUU2</th>\n",
              "      <th>CQUU3</th>\n",
              "      <th>CQUUX1</th>\n",
              "    </tr>\n",
              "  </thead>\n",
              "  <tbody>\n",
              "    <tr>\n",
              "      <th>0</th>\n",
              "      <td>1</td>\n",
              "      <td>Amo o catálogo, repleto de maravilhas</td>\n",
              "      <td>Elogio</td>\n",
              "      <td>Catálogo</td>\n",
              "      <td>NaN</td>\n",
              "      <td>NaN</td>\n",
              "      <td>NaN</td>\n",
              "      <td>Celular</td>\n",
              "      <td>NaN</td>\n",
              "      <td>NaN</td>\n",
              "      <td>Positivo</td>\n",
              "      <td>Eficácia</td>\n",
              "      <td>NaN</td>\n",
              "      <td>NaN</td>\n",
              "      <td>Satisfação</td>\n",
              "    </tr>\n",
              "    <tr>\n",
              "      <th>1</th>\n",
              "      <td>2</td>\n",
              "      <td>Esta sendo horrível , não consigo entrar na mi...</td>\n",
              "      <td>Crítica</td>\n",
              "      <td>Login</td>\n",
              "      <td>NaN</td>\n",
              "      <td>NaN</td>\n",
              "      <td>NaN</td>\n",
              "      <td>Celular</td>\n",
              "      <td>NaN</td>\n",
              "      <td>NaN</td>\n",
              "      <td>Negativo</td>\n",
              "      <td>Eficácia</td>\n",
              "      <td>Utilidade</td>\n",
              "      <td>NaN</td>\n",
              "      <td>Frustração</td>\n",
              "    </tr>\n",
              "    <tr>\n",
              "      <th>2</th>\n",
              "      <td>3</td>\n",
              "      <td>Como assim precisa de internet pra assistir um...</td>\n",
              "      <td>Dúvida</td>\n",
              "      <td>Reprodução de vídeo baixado</td>\n",
              "      <td>NaN</td>\n",
              "      <td>NaN</td>\n",
              "      <td>NaN</td>\n",
              "      <td>Celular</td>\n",
              "      <td>NaN</td>\n",
              "      <td>NaN</td>\n",
              "      <td>Neutro</td>\n",
              "      <td>Utilidade</td>\n",
              "      <td>NaN</td>\n",
              "      <td>NaN</td>\n",
              "      <td>Frustração</td>\n",
              "    </tr>\n",
              "    <tr>\n",
              "      <th>3</th>\n",
              "      <td>4</td>\n",
              "      <td>App muito ruim,por mais que nao goste da Netfl...</td>\n",
              "      <td>Crítica</td>\n",
              "      <td>Sistema em geral</td>\n",
              "      <td>NaN</td>\n",
              "      <td>NaN</td>\n",
              "      <td>NaN</td>\n",
              "      <td>Celular</td>\n",
              "      <td>NaN</td>\n",
              "      <td>NaN</td>\n",
              "      <td>Negativo</td>\n",
              "      <td>Eficácia</td>\n",
              "      <td>Utilidade</td>\n",
              "      <td>NaN</td>\n",
              "      <td>Frustração</td>\n",
              "    </tr>\n",
              "    <tr>\n",
              "      <th>4</th>\n",
              "      <td>5</td>\n",
              "      <td>Péssimo vc não consegui mais entrar na conta p...</td>\n",
              "      <td>Crítica</td>\n",
              "      <td>Login</td>\n",
              "      <td>NaN</td>\n",
              "      <td>NaN</td>\n",
              "      <td>NaN</td>\n",
              "      <td>Celular</td>\n",
              "      <td>NaN</td>\n",
              "      <td>NaN</td>\n",
              "      <td>Negativo</td>\n",
              "      <td>Eficácia</td>\n",
              "      <td>NaN</td>\n",
              "      <td>NaN</td>\n",
              "      <td>Frustração</td>\n",
              "    </tr>\n",
              "    <tr>\n",
              "      <th>...</th>\n",
              "      <td>...</td>\n",
              "      <td>...</td>\n",
              "      <td>...</td>\n",
              "      <td>...</td>\n",
              "      <td>...</td>\n",
              "      <td>...</td>\n",
              "      <td>...</td>\n",
              "      <td>...</td>\n",
              "      <td>...</td>\n",
              "      <td>...</td>\n",
              "      <td>...</td>\n",
              "      <td>...</td>\n",
              "      <td>...</td>\n",
              "      <td>...</td>\n",
              "      <td>...</td>\n",
              "    </tr>\n",
              "    <tr>\n",
              "      <th>1228</th>\n",
              "      <td>1229</td>\n",
              "      <td>mas fica com imagem apagada e distorcida ao re...</td>\n",
              "      <td>Crítica</td>\n",
              "      <td>Reprodução de vídeo</td>\n",
              "      <td>NaN</td>\n",
              "      <td>NaN</td>\n",
              "      <td>NaN</td>\n",
              "      <td>Smart TV</td>\n",
              "      <td>NaN</td>\n",
              "      <td>NaN</td>\n",
              "      <td>Negativo</td>\n",
              "      <td>Eficácia</td>\n",
              "      <td>NaN</td>\n",
              "      <td>NaN</td>\n",
              "      <td>Frustração</td>\n",
              "    </tr>\n",
              "    <tr>\n",
              "      <th>1229</th>\n",
              "      <td>1230</td>\n",
              "      <td>porém precisaria melhorar quando saímos e volt...</td>\n",
              "      <td>Crítica</td>\n",
              "      <td>Rede</td>\n",
              "      <td>NaN</td>\n",
              "      <td>NaN</td>\n",
              "      <td>NaN</td>\n",
              "      <td>Celular</td>\n",
              "      <td>NaN</td>\n",
              "      <td>NaN</td>\n",
              "      <td>Negativo</td>\n",
              "      <td>Eficácia</td>\n",
              "      <td>NaN</td>\n",
              "      <td>NaN</td>\n",
              "      <td>Frustração</td>\n",
              "    </tr>\n",
              "    <tr>\n",
              "      <th>1230</th>\n",
              "      <td>1231</td>\n",
              "      <td>Mas o catálogo é muito bom</td>\n",
              "      <td>Elogio</td>\n",
              "      <td>Catálogo</td>\n",
              "      <td>NaN</td>\n",
              "      <td>NaN</td>\n",
              "      <td>NaN</td>\n",
              "      <td>Celular</td>\n",
              "      <td>NaN</td>\n",
              "      <td>NaN</td>\n",
              "      <td>Positivo</td>\n",
              "      <td>Eficácia</td>\n",
              "      <td>NaN</td>\n",
              "      <td>NaN</td>\n",
              "      <td>Satisfação</td>\n",
              "    </tr>\n",
              "    <tr>\n",
              "      <th>1231</th>\n",
              "      <td>1232</td>\n",
              "      <td>ele não tem pic in picture como outros... isso...</td>\n",
              "      <td>Sugestão</td>\n",
              "      <td>Picture-in-picture</td>\n",
              "      <td>NaN</td>\n",
              "      <td>NaN</td>\n",
              "      <td>NaN</td>\n",
              "      <td>Celular</td>\n",
              "      <td>NaN</td>\n",
              "      <td>NaN</td>\n",
              "      <td>Neutro</td>\n",
              "      <td>Utilidade</td>\n",
              "      <td>NaN</td>\n",
              "      <td>NaN</td>\n",
              "      <td>Estética</td>\n",
              "    </tr>\n",
              "    <tr>\n",
              "      <th>1232</th>\n",
              "      <td>1233</td>\n",
              "      <td>mas do nada, o aplicativo parou de funcionar, ...</td>\n",
              "      <td>Crítica</td>\n",
              "      <td>Incompatibilidade</td>\n",
              "      <td>NaN</td>\n",
              "      <td>NaN</td>\n",
              "      <td>NaN</td>\n",
              "      <td>Smart TV</td>\n",
              "      <td>NaN</td>\n",
              "      <td>NaN</td>\n",
              "      <td>Negativo</td>\n",
              "      <td>Utilidade</td>\n",
              "      <td>NaN</td>\n",
              "      <td>NaN</td>\n",
              "      <td>Frustração</td>\n",
              "    </tr>\n",
              "  </tbody>\n",
              "</table>\n",
              "<p>1233 rows × 15 columns</p>\n",
              "</div>\n",
              "    <div class=\"colab-df-buttons\">\n",
              "\n",
              "  <div class=\"colab-df-container\">\n",
              "    <button class=\"colab-df-convert\" onclick=\"convertToInteractive('df-8ff1c926-363c-4882-9ea3-a742892e6a8b')\"\n",
              "            title=\"Convert this dataframe to an interactive table.\"\n",
              "            style=\"display:none;\">\n",
              "\n",
              "  <svg xmlns=\"http://www.w3.org/2000/svg\" height=\"24px\" viewBox=\"0 -960 960 960\">\n",
              "    <path d=\"M120-120v-720h720v720H120Zm60-500h600v-160H180v160Zm220 220h160v-160H400v160Zm0 220h160v-160H400v160ZM180-400h160v-160H180v160Zm440 0h160v-160H620v160ZM180-180h160v-160H180v160Zm440 0h160v-160H620v160Z\"/>\n",
              "  </svg>\n",
              "    </button>\n",
              "\n",
              "  <style>\n",
              "    .colab-df-container {\n",
              "      display:flex;\n",
              "      gap: 12px;\n",
              "    }\n",
              "\n",
              "    .colab-df-convert {\n",
              "      background-color: #E8F0FE;\n",
              "      border: none;\n",
              "      border-radius: 50%;\n",
              "      cursor: pointer;\n",
              "      display: none;\n",
              "      fill: #1967D2;\n",
              "      height: 32px;\n",
              "      padding: 0 0 0 0;\n",
              "      width: 32px;\n",
              "    }\n",
              "\n",
              "    .colab-df-convert:hover {\n",
              "      background-color: #E2EBFA;\n",
              "      box-shadow: 0px 1px 2px rgba(60, 64, 67, 0.3), 0px 1px 3px 1px rgba(60, 64, 67, 0.15);\n",
              "      fill: #174EA6;\n",
              "    }\n",
              "\n",
              "    .colab-df-buttons div {\n",
              "      margin-bottom: 4px;\n",
              "    }\n",
              "\n",
              "    [theme=dark] .colab-df-convert {\n",
              "      background-color: #3B4455;\n",
              "      fill: #D2E3FC;\n",
              "    }\n",
              "\n",
              "    [theme=dark] .colab-df-convert:hover {\n",
              "      background-color: #434B5C;\n",
              "      box-shadow: 0px 1px 3px 1px rgba(0, 0, 0, 0.15);\n",
              "      filter: drop-shadow(0px 1px 2px rgba(0, 0, 0, 0.3));\n",
              "      fill: #FFFFFF;\n",
              "    }\n",
              "  </style>\n",
              "\n",
              "    <script>\n",
              "      const buttonEl =\n",
              "        document.querySelector('#df-8ff1c926-363c-4882-9ea3-a742892e6a8b button.colab-df-convert');\n",
              "      buttonEl.style.display =\n",
              "        google.colab.kernel.accessAllowed ? 'block' : 'none';\n",
              "\n",
              "      async function convertToInteractive(key) {\n",
              "        const element = document.querySelector('#df-8ff1c926-363c-4882-9ea3-a742892e6a8b');\n",
              "        const dataTable =\n",
              "          await google.colab.kernel.invokeFunction('convertToInteractive',\n",
              "                                                    [key], {});\n",
              "        if (!dataTable) return;\n",
              "\n",
              "        const docLinkHtml = 'Like what you see? Visit the ' +\n",
              "          '<a target=\"_blank\" href=https://colab.research.google.com/notebooks/data_table.ipynb>data table notebook</a>'\n",
              "          + ' to learn more about interactive tables.';\n",
              "        element.innerHTML = '';\n",
              "        dataTable['output_type'] = 'display_data';\n",
              "        await google.colab.output.renderOutput(dataTable, element);\n",
              "        const docLink = document.createElement('div');\n",
              "        docLink.innerHTML = docLinkHtml;\n",
              "        element.appendChild(docLink);\n",
              "      }\n",
              "    </script>\n",
              "  </div>\n",
              "\n",
              "\n",
              "<div id=\"df-682e8854-6d8a-4df8-8d35-72c3647fa96a\">\n",
              "  <button class=\"colab-df-quickchart\" onclick=\"quickchart('df-682e8854-6d8a-4df8-8d35-72c3647fa96a')\"\n",
              "            title=\"Suggest charts.\"\n",
              "            style=\"display:none;\">\n",
              "\n",
              "<svg xmlns=\"http://www.w3.org/2000/svg\" height=\"24px\"viewBox=\"0 0 24 24\"\n",
              "     width=\"24px\">\n",
              "    <g>\n",
              "        <path d=\"M19 3H5c-1.1 0-2 .9-2 2v14c0 1.1.9 2 2 2h14c1.1 0 2-.9 2-2V5c0-1.1-.9-2-2-2zM9 17H7v-7h2v7zm4 0h-2V7h2v10zm4 0h-2v-4h2v4z\"/>\n",
              "    </g>\n",
              "</svg>\n",
              "  </button>\n",
              "\n",
              "<style>\n",
              "  .colab-df-quickchart {\n",
              "      --bg-color: #E8F0FE;\n",
              "      --fill-color: #1967D2;\n",
              "      --hover-bg-color: #E2EBFA;\n",
              "      --hover-fill-color: #174EA6;\n",
              "      --disabled-fill-color: #AAA;\n",
              "      --disabled-bg-color: #DDD;\n",
              "  }\n",
              "\n",
              "  [theme=dark] .colab-df-quickchart {\n",
              "      --bg-color: #3B4455;\n",
              "      --fill-color: #D2E3FC;\n",
              "      --hover-bg-color: #434B5C;\n",
              "      --hover-fill-color: #FFFFFF;\n",
              "      --disabled-bg-color: #3B4455;\n",
              "      --disabled-fill-color: #666;\n",
              "  }\n",
              "\n",
              "  .colab-df-quickchart {\n",
              "    background-color: var(--bg-color);\n",
              "    border: none;\n",
              "    border-radius: 50%;\n",
              "    cursor: pointer;\n",
              "    display: none;\n",
              "    fill: var(--fill-color);\n",
              "    height: 32px;\n",
              "    padding: 0;\n",
              "    width: 32px;\n",
              "  }\n",
              "\n",
              "  .colab-df-quickchart:hover {\n",
              "    background-color: var(--hover-bg-color);\n",
              "    box-shadow: 0 1px 2px rgba(60, 64, 67, 0.3), 0 1px 3px 1px rgba(60, 64, 67, 0.15);\n",
              "    fill: var(--button-hover-fill-color);\n",
              "  }\n",
              "\n",
              "  .colab-df-quickchart-complete:disabled,\n",
              "  .colab-df-quickchart-complete:disabled:hover {\n",
              "    background-color: var(--disabled-bg-color);\n",
              "    fill: var(--disabled-fill-color);\n",
              "    box-shadow: none;\n",
              "  }\n",
              "\n",
              "  .colab-df-spinner {\n",
              "    border: 2px solid var(--fill-color);\n",
              "    border-color: transparent;\n",
              "    border-bottom-color: var(--fill-color);\n",
              "    animation:\n",
              "      spin 1s steps(1) infinite;\n",
              "  }\n",
              "\n",
              "  @keyframes spin {\n",
              "    0% {\n",
              "      border-color: transparent;\n",
              "      border-bottom-color: var(--fill-color);\n",
              "      border-left-color: var(--fill-color);\n",
              "    }\n",
              "    20% {\n",
              "      border-color: transparent;\n",
              "      border-left-color: var(--fill-color);\n",
              "      border-top-color: var(--fill-color);\n",
              "    }\n",
              "    30% {\n",
              "      border-color: transparent;\n",
              "      border-left-color: var(--fill-color);\n",
              "      border-top-color: var(--fill-color);\n",
              "      border-right-color: var(--fill-color);\n",
              "    }\n",
              "    40% {\n",
              "      border-color: transparent;\n",
              "      border-right-color: var(--fill-color);\n",
              "      border-top-color: var(--fill-color);\n",
              "    }\n",
              "    60% {\n",
              "      border-color: transparent;\n",
              "      border-right-color: var(--fill-color);\n",
              "    }\n",
              "    80% {\n",
              "      border-color: transparent;\n",
              "      border-right-color: var(--fill-color);\n",
              "      border-bottom-color: var(--fill-color);\n",
              "    }\n",
              "    90% {\n",
              "      border-color: transparent;\n",
              "      border-bottom-color: var(--fill-color);\n",
              "    }\n",
              "  }\n",
              "</style>\n",
              "\n",
              "  <script>\n",
              "    async function quickchart(key) {\n",
              "      const quickchartButtonEl =\n",
              "        document.querySelector('#' + key + ' button');\n",
              "      quickchartButtonEl.disabled = true;  // To prevent multiple clicks.\n",
              "      quickchartButtonEl.classList.add('colab-df-spinner');\n",
              "      try {\n",
              "        const charts = await google.colab.kernel.invokeFunction(\n",
              "            'suggestCharts', [key], {});\n",
              "      } catch (error) {\n",
              "        console.error('Error during call to suggestCharts:', error);\n",
              "      }\n",
              "      quickchartButtonEl.classList.remove('colab-df-spinner');\n",
              "      quickchartButtonEl.classList.add('colab-df-quickchart-complete');\n",
              "    }\n",
              "    (() => {\n",
              "      let quickchartButtonEl =\n",
              "        document.querySelector('#df-682e8854-6d8a-4df8-8d35-72c3647fa96a button');\n",
              "      quickchartButtonEl.style.display =\n",
              "        google.colab.kernel.accessAllowed ? 'block' : 'none';\n",
              "    })();\n",
              "  </script>\n",
              "</div>\n",
              "    </div>\n",
              "  </div>\n"
            ]
          },
          "metadata": {},
          "execution_count": 3
        }
      ]
    },
    {
      "cell_type": "markdown",
      "source": [
        "# **Entendendo os dados**"
      ],
      "metadata": {
        "id": "7RATN6RJKhFN"
      }
    },
    {
      "cell_type": "code",
      "source": [
        "funcionalidade1 = classificacao['F1'].value_counts()\n",
        "funcionalidade1"
      ],
      "metadata": {
        "colab": {
          "base_uri": "https://localhost:8080/"
        },
        "id": "UhvxN9ZwkmGT",
        "outputId": "3bcf0159-8d26-4fbe-ef13-990a613f71ac"
      },
      "execution_count": null,
      "outputs": [
        {
          "output_type": "execute_result",
          "data": {
            "text/plain": [
              "Sistema em geral                                      300\n",
              "Desempenho                                            285\n",
              "Catálogo                                              218\n",
              "Rede                                                  123\n",
              "Reprodução de vídeo                                    90\n",
              "Login                                                  55\n",
              "Assinatura                                             29\n",
              "Espelhar                                               25\n",
              "Logout                                                 14\n",
              "Reprodução de vídeo baixado                             7\n",
              "Suporte                                                 6\n",
              "Picture-in-picture                                      5\n",
              "Download de conteúdo                                    5\n",
              "Interface                                               3\n",
              "Acelerar reprodução de vídeo                            3\n",
              "Senhas para perfil                                      3\n",
              "Disponibilidade                                         2\n",
              "Instalação                                              2\n",
              "Censura                                                 2\n",
              "Conta                                                   2\n",
              "Recuperar senha                                         2\n",
              "Incompatibilidade                                       2\n",
              "Solução da parada forçada                               1\n",
              "Seleção de séries                                       1\n",
              "Falta de opção favoritar                                1\n",
              "Carregamento prévio                                     1\n",
              "Identificação de interação em um determinado tempo      1\n",
              "Login por código                                        1\n",
              "Fluidez nas transições de página                        1\n",
              "Atualização                                             1\n",
              "Menu Principal                                          1\n",
              "Download do App                                         1\n",
              "Privacidade dos perfis                                  1\n",
              "Retirar Títulos na aba “Continue Assistindo”)           1\n",
              "Reprodução de vídeo ao vivo                             1\n",
              "Armazenamento                                           1\n",
              "Buscar                                                  1\n",
              "Recuperar conta                                         1\n",
              "Perfil infantil                                         1\n",
              "Trailers                                                1\n",
              "Acessibilidade                                          1\n",
              "Ajuste de volume                                        1\n",
              "Name: F1, dtype: int64"
            ]
          },
          "metadata": {},
          "execution_count": 4
        }
      ]
    },
    {
      "cell_type": "code",
      "source": [
        "funcionalidade2 = classificacao['F2'].value_counts()\n",
        "funcionalidade2"
      ],
      "metadata": {
        "colab": {
          "base_uri": "https://localhost:8080/"
        },
        "id": "rXl4IyQmkmxM",
        "outputId": "d922989a-91b6-4549-a677-581be53a1b31"
      },
      "execution_count": null,
      "outputs": [
        {
          "output_type": "execute_result",
          "data": {
            "text/plain": [
              "Reprodução de vídeo            69\n",
              "Rede                           60\n",
              "Desempenho                     56\n",
              "Login                          19\n",
              "Espelhar                       14\n",
              "Logout                         11\n",
              "Download de conteúdo           10\n",
              "Assinatura                      6\n",
              "Catálogo                        4\n",
              "Buscar                          3\n",
              "Reprodução de vídeo baixado     3\n",
              "Recuperar senha                 2\n",
              "Lista de episódios              2\n",
              "Perfil                          2\n",
              "Suporte                         2\n",
              "Utilização                      1\n",
              "Ajuste na legenda               1\n",
              "Armazenamento                   1\n",
              "Configurações                   1\n",
              "Idioma do aplicativo            1\n",
              "Disponibilidade                 1\n",
              "Sistema em geral                1\n",
              "Interface                       1\n",
              "Nomear dispositivos             1\n",
              "Aplicação para Computador       1\n",
              "Name: F2, dtype: int64"
            ]
          },
          "metadata": {},
          "execution_count": 5
        }
      ]
    },
    {
      "cell_type": "code",
      "source": [
        "funcionalidade3 = classificacao['F3'].value_counts()\n",
        "funcionalidade3"
      ],
      "metadata": {
        "colab": {
          "base_uri": "https://localhost:8080/"
        },
        "id": "iNDeemD2kpLM",
        "outputId": "c66bfa73-3027-48d1-ded3-2e87bfae094e"
      },
      "execution_count": null,
      "outputs": [
        {
          "output_type": "execute_result",
          "data": {
            "text/plain": [
              "Rede                           18\n",
              "Espelhar                       11\n",
              "Desempenho                      9\n",
              "Download de conteúdo            6\n",
              "Reprodução de vídeo             5\n",
              "Interface                       4\n",
              "Reprodução de vídeo baixado     4\n",
              "Login                           4\n",
              "Logout                          3\n",
              "Recuperar senha                 2\n",
              "Suporte                         2\n",
              "Pop-ups de anúncio              1\n",
              "Tamanho de tela                 1\n",
              "Buscar                          1\n",
              "Deletar episódios baixados      1\n",
              "Lista de filmes assistidos      1\n",
              "Página de Downloads             1\n",
              "Catálogo                        1\n",
              "Recuperar conta                 1\n",
              "Refinamento do Layout           1\n",
              "Name: F3, dtype: int64"
            ]
          },
          "metadata": {},
          "execution_count": 6
        }
      ]
    },
    {
      "cell_type": "code",
      "source": [
        "funcionalidade4 = classificacao['F4'].value_counts()\n",
        "funcionalidade4"
      ],
      "metadata": {
        "colab": {
          "base_uri": "https://localhost:8080/"
        },
        "id": "_ks8cQpQkrhu",
        "outputId": "a5b0e9f9-b598-4ff0-e56d-cdf337e234dd"
      },
      "execution_count": null,
      "outputs": [
        {
          "output_type": "execute_result",
          "data": {
            "text/plain": [
              "Rede                   4\n",
              "Espelhar               4\n",
              "Reprodução de vídeo    3\n",
              "Desempenho             3\n",
              "Login                  1\n",
              "Catálogo               1\n",
              "Interface              1\n",
              "Logout                 1\n",
              "Suporte                1\n",
              "Name: F4, dtype: int64"
            ]
          },
          "metadata": {},
          "execution_count": 7
        }
      ]
    },
    {
      "cell_type": "code",
      "source": [
        "artefato1 = classificacao['A1'].value_counts()\n",
        "artefato1"
      ],
      "metadata": {
        "colab": {
          "base_uri": "https://localhost:8080/"
        },
        "id": "gJcHh_AkktC5",
        "outputId": "ea2996d0-0017-4c71-f7cf-53afea54efe7"
      },
      "execution_count": null,
      "outputs": [
        {
          "output_type": "execute_result",
          "data": {
            "text/plain": [
              "Celular            1163\n",
              "Smart TV             21\n",
              "Chromecast            7\n",
              "Fire TV Stick         4\n",
              "TV Box                4\n",
              "Realme Stick TV       1\n",
              "Tablet                1\n",
              "Xbox                  1\n",
              "AndroidTV             1\n",
              "Name: A1, dtype: int64"
            ]
          },
          "metadata": {},
          "execution_count": 8
        }
      ]
    },
    {
      "cell_type": "code",
      "source": [
        "artefato2 = classificacao['A2'].value_counts()\n",
        "artefato2"
      ],
      "metadata": {
        "colab": {
          "base_uri": "https://localhost:8080/"
        },
        "id": "oORPV8ZNl2TZ",
        "outputId": "16463867-c91d-4cf9-e557-5a8e597a964a"
      },
      "execution_count": null,
      "outputs": [
        {
          "output_type": "execute_result",
          "data": {
            "text/plain": [
              "Smart TV            48\n",
              "Chromecast          22\n",
              "Computador           8\n",
              "Celular              4\n",
              "Tablet               2\n",
              "TV Box               2\n",
              "Xbox                 2\n",
              "Fire TV Stick        1\n",
              "PlayStation 5        1\n",
              "Web Video Caster     1\n",
              "MiBox                1\n",
              "Name: A2, dtype: int64"
            ]
          },
          "metadata": {},
          "execution_count": 9
        }
      ]
    },
    {
      "cell_type": "code",
      "source": [
        "artefato3 = classificacao['A3'].value_counts()\n",
        "artefato3"
      ],
      "metadata": {
        "colab": {
          "base_uri": "https://localhost:8080/"
        },
        "id": "sSJkpjSVl4Jw",
        "outputId": "006319e8-0eab-4eea-c3b9-c703ed5f647d"
      },
      "execution_count": null,
      "outputs": [
        {
          "output_type": "execute_result",
          "data": {
            "text/plain": [
              "Notebook          1\n",
              "Smart TV          1\n",
              "Roku              1\n",
              "Celular           1\n",
              "Xbox              1\n",
              "TVBox Vodafone    1\n",
              "PlayStation 5     1\n",
              "Chromecast        1\n",
              "Name: A3, dtype: int64"
            ]
          },
          "metadata": {},
          "execution_count": 10
        }
      ]
    },
    {
      "cell_type": "code",
      "source": [
        "sentimento = classificacao['Sentimento'].value_counts()\n",
        "sentimento"
      ],
      "metadata": {
        "colab": {
          "base_uri": "https://localhost:8080/"
        },
        "id": "hINKTm6imNC0",
        "outputId": "af2c4216-8f5c-4f29-dae1-e4130fd7cb54"
      },
      "execution_count": null,
      "outputs": [
        {
          "output_type": "execute_result",
          "data": {
            "text/plain": [
              "Negativo    852\n",
              "Positivo    302\n",
              "Neutro       49\n",
              "Name: Sentimento, dtype: int64"
            ]
          },
          "metadata": {},
          "execution_count": 11
        }
      ]
    },
    {
      "cell_type": "code",
      "source": [
        "usabilidade1 = classificacao['CQUU1'].value_counts()\n",
        "usabilidade1"
      ],
      "metadata": {
        "colab": {
          "base_uri": "https://localhost:8080/"
        },
        "id": "oLGhl_EEmjGY",
        "outputId": "45238c95-d84f-49b0-a097-05a2329e1170"
      },
      "execution_count": null,
      "outputs": [
        {
          "output_type": "execute_result",
          "data": {
            "text/plain": [
              "Eficácia       939\n",
              "Eficiência     231\n",
              "Utilidade       29\n",
              "Aprendizado      3\n",
              "Segurança        1\n",
              "Name: CQUU1, dtype: int64"
            ]
          },
          "metadata": {},
          "execution_count": 12
        }
      ]
    },
    {
      "cell_type": "code",
      "source": [
        "usabilidade2 = classificacao['CQUU2'].value_counts()\n",
        "usabilidade2"
      ],
      "metadata": {
        "colab": {
          "base_uri": "https://localhost:8080/"
        },
        "id": "N5TxMOpnm0KX",
        "outputId": "dbca14af-fcb3-487a-c2f7-4f27d1902ba7"
      },
      "execution_count": null,
      "outputs": [
        {
          "output_type": "execute_result",
          "data": {
            "text/plain": [
              "Utilidade     360\n",
              "Eficiência     87\n",
              "Eficácia       28\n",
              "Segurança       3\n",
              "Name: CQUU2, dtype: int64"
            ]
          },
          "metadata": {},
          "execution_count": 13
        }
      ]
    },
    {
      "cell_type": "code",
      "source": [
        "usabilidade3 = classificacao['CQUU3'].value_counts()\n",
        "usabilidade3"
      ],
      "metadata": {
        "colab": {
          "base_uri": "https://localhost:8080/"
        },
        "id": "vELjPjMpm7ZY",
        "outputId": "389d1b32-c3a4-40b1-9f0b-800cff5932b8"
      },
      "execution_count": null,
      "outputs": [
        {
          "output_type": "execute_result",
          "data": {
            "text/plain": [
              "Eficiência     128\n",
              "Utilidade        9\n",
              "Aprendizado      3\n",
              "Eficácia         1\n",
              "Name: CQUU3, dtype: int64"
            ]
          },
          "metadata": {},
          "execution_count": 14
        }
      ]
    },
    {
      "cell_type": "code",
      "source": [
        "ux = classificacao['CQUUX1'].value_counts()\n",
        "ux"
      ],
      "metadata": {
        "colab": {
          "base_uri": "https://localhost:8080/"
        },
        "id": "dC-py00fm_PP",
        "outputId": "5bad30dd-c430-4bbd-844c-9769c526dc88"
      },
      "execution_count": null,
      "outputs": [
        {
          "output_type": "execute_result",
          "data": {
            "text/plain": [
              "Frustração    874\n",
              "Satisfação    304\n",
              "Estética       15\n",
              "Motivação       9\n",
              "Confiança       1\n",
              "Name: CQUUX1, dtype: int64"
            ]
          },
          "metadata": {},
          "execution_count": 15
        }
      ]
    },
    {
      "cell_type": "markdown",
      "source": [
        "# **Contagem das categorias**\n",
        "\n",
        "\n"
      ],
      "metadata": {
        "id": "BoPIgDECFTro"
      }
    },
    {
      "cell_type": "markdown",
      "source": [
        "### Tipo"
      ],
      "metadata": {
        "id": "bmFOuUeWiSiH"
      }
    },
    {
      "cell_type": "code",
      "source": [
        "tipo = classificacao['Tipo']\n",
        "tipo.value_counts()"
      ],
      "metadata": {
        "colab": {
          "base_uri": "https://localhost:8080/"
        },
        "id": "ljtBYbZliQOb",
        "outputId": "bbf0c5ef-ba71-4c2f-a27f-7d35bcd593ec"
      },
      "execution_count": null,
      "outputs": [
        {
          "output_type": "execute_result",
          "data": {
            "text/plain": [
              "Crítica       853\n",
              "Elogio        304\n",
              "-              30\n",
              "Sugestão       24\n",
              "Dúvida          9\n",
              "Comparação      7\n",
              "Ajuda           6\n",
              "Name: Tipo, dtype: int64"
            ]
          },
          "metadata": {},
          "execution_count": 16
        }
      ]
    },
    {
      "cell_type": "markdown",
      "source": [
        "### Funcionalidades"
      ],
      "metadata": {
        "id": "1DUTwIFGIq5A"
      }
    },
    {
      "cell_type": "code",
      "source": [
        "funcionalidade1 = classificacao['F1']\n",
        "funcionalidade2 = classificacao['F2']\n",
        "funcionalidade3 = classificacao['F3']\n",
        "funcionalidade4 = classificacao['F4']"
      ],
      "metadata": {
        "id": "DX_ZwdScI0OQ"
      },
      "execution_count": null,
      "outputs": []
    },
    {
      "cell_type": "code",
      "source": [
        "f1 = pd.DataFrame(funcionalidade1)\n",
        "f1.rename(columns={'F1': 'Funcionalidades'}, inplace = True)\n",
        "f2 = pd.DataFrame(funcionalidade2)\n",
        "f2.rename(columns={'F2': 'Funcionalidades'}, inplace = True)\n",
        "f3 = pd.DataFrame(funcionalidade3)\n",
        "f3.rename(columns={'F3': 'Funcionalidades'}, inplace = True)\n",
        "f4 = pd.DataFrame(funcionalidade4)\n",
        "f4.rename(columns={'F4': 'Funcionalidades'}, inplace = True)"
      ],
      "metadata": {
        "id": "HES39XdmI8IU"
      },
      "execution_count": null,
      "outputs": []
    },
    {
      "cell_type": "code",
      "source": [
        "tabelaFuncionalidade = pd.concat([f1, f2, f3, f4])"
      ],
      "metadata": {
        "id": "IyxCK3RwJZ90"
      },
      "execution_count": null,
      "outputs": []
    },
    {
      "cell_type": "code",
      "source": [
        "tabelaFuncionalidade.value_counts()"
      ],
      "metadata": {
        "colab": {
          "base_uri": "https://localhost:8080/"
        },
        "id": "6lmX-7wWJhqa",
        "outputId": "161184a4-28f8-4ddc-8560-0ded20856735"
      },
      "execution_count": null,
      "outputs": [
        {
          "output_type": "execute_result",
          "data": {
            "text/plain": [
              "Funcionalidades                                   \n",
              "Desempenho                                            353\n",
              "Sistema em geral                                      301\n",
              "Catálogo                                              224\n",
              "Rede                                                  205\n",
              "Reprodução de vídeo                                   167\n",
              "Login                                                  79\n",
              "Espelhar                                               54\n",
              "Assinatura                                             35\n",
              "Logout                                                 29\n",
              "Download de conteúdo                                   21\n",
              "Reprodução de vídeo baixado                            14\n",
              "Suporte                                                11\n",
              "Interface                                               9\n",
              "Recuperar senha                                         6\n",
              "Picture-in-picture                                      5\n",
              "Buscar                                                  5\n",
              "Acelerar reprodução de vídeo                            3\n",
              "Disponibilidade                                         3\n",
              "Senhas para perfil                                      3\n",
              "Instalação                                              2\n",
              "Perfil                                                  2\n",
              "Recuperar conta                                         2\n",
              "Armazenamento                                           2\n",
              "Censura                                                 2\n",
              "Lista de episódios                                      2\n",
              "Incompatibilidade                                       2\n",
              "Conta                                                   2\n",
              "Refinamento do Layout                                   1\n",
              "Pop-ups de anúncio                                      1\n",
              "Solução da parada forçada                               1\n",
              "Reprodução de vídeo ao vivo                             1\n",
              "Tamanho de tela                                         1\n",
              "Trailers                                                1\n",
              "Página de Downloads                                     1\n",
              "Seleção de séries                                       1\n",
              "Privacidade dos perfis                                  1\n",
              "Retirar Títulos na aba “Continue Assistindo”)           1\n",
              "Lista de filmes assistidos                              1\n",
              "Perfil infantil                                         1\n",
              "Nomear dispositivos                                     1\n",
              "Ajuste de volume                                        1\n",
              "Ajuste na legenda                                       1\n",
              "Aplicação para Computador                               1\n",
              "Atualização                                             1\n",
              "Carregamento prévio                                     1\n",
              "Configurações                                           1\n",
              "Deletar episódios baixados                              1\n",
              "Download do App                                         1\n",
              "Falta de opção favoritar                                1\n",
              "Fluidez nas transições de página                        1\n",
              "Identificação de interação em um determinado tempo      1\n",
              "Idioma do aplicativo                                    1\n",
              "Acessibilidade                                          1\n",
              "Login por código                                        1\n",
              "Menu Principal                                          1\n",
              "Utilização                                              1\n",
              "dtype: int64"
            ]
          },
          "metadata": {},
          "execution_count": 20
        }
      ]
    },
    {
      "cell_type": "markdown",
      "source": [
        "### Artefato"
      ],
      "metadata": {
        "id": "-h8mQEuTHjrs"
      }
    },
    {
      "cell_type": "code",
      "source": [
        "artefato1 = classificacao['A1']\n",
        "artefato2 = classificacao['A2']\n",
        "artefato3 = classificacao['A3']"
      ],
      "metadata": {
        "id": "-Q6-VWeRHm4w"
      },
      "execution_count": null,
      "outputs": []
    },
    {
      "cell_type": "code",
      "source": [
        "a1 = pd.DataFrame(artefato1)\n",
        "a1.rename(columns={'A1': 'Artefatos'}, inplace = True)\n",
        "a2 = pd.DataFrame(artefato2)\n",
        "a2.rename(columns={'A2': 'Artefatos'}, inplace = True)\n",
        "a3 = pd.DataFrame(artefato3)\n",
        "a3.rename(columns={'A3': 'Artefatos'}, inplace = True)"
      ],
      "metadata": {
        "id": "iWoa-MT4H2ar"
      },
      "execution_count": null,
      "outputs": []
    },
    {
      "cell_type": "code",
      "source": [
        "tabelaArtefatos = pd.concat([a1, a2, a3])"
      ],
      "metadata": {
        "id": "ZLVBlCcoIOK3"
      },
      "execution_count": null,
      "outputs": []
    },
    {
      "cell_type": "code",
      "source": [
        "tabelaArtefatos.value_counts()"
      ],
      "metadata": {
        "id": "NoYsNp97ITkM",
        "colab": {
          "base_uri": "https://localhost:8080/"
        },
        "outputId": "043be005-6574-4e81-d975-2452d14eb274"
      },
      "execution_count": null,
      "outputs": [
        {
          "output_type": "execute_result",
          "data": {
            "text/plain": [
              "Artefatos       \n",
              "Celular             1168\n",
              "Smart TV              70\n",
              "Chromecast            30\n",
              "Computador             8\n",
              "TV Box                 6\n",
              "Fire TV Stick          5\n",
              "Xbox                   4\n",
              "Tablet                 3\n",
              "PlayStation 5          2\n",
              "AndroidTV              1\n",
              "MiBox                  1\n",
              "Notebook               1\n",
              "Realme Stick TV        1\n",
              "Roku                   1\n",
              "TVBox Vodafone         1\n",
              "Web Video Caster       1\n",
              "dtype: int64"
            ]
          },
          "metadata": {},
          "execution_count": 24
        }
      ]
    },
    {
      "cell_type": "markdown",
      "source": [
        "### Sentimento"
      ],
      "metadata": {
        "id": "O0jgoJCJKGb4"
      }
    },
    {
      "cell_type": "code",
      "source": [
        "sentimento = classificacao['Sentimento'].value_counts()\n",
        "sentimento"
      ],
      "metadata": {
        "id": "v-0xswG4KJLd"
      },
      "execution_count": null,
      "outputs": []
    },
    {
      "cell_type": "markdown",
      "source": [
        "### Usabilidade"
      ],
      "metadata": {
        "id": "La04hMOOFyQf"
      }
    },
    {
      "cell_type": "code",
      "source": [
        "usabilidade1 = classificacao['CQUU1']\n",
        "usabilidade2 = classificacao['CQUU2']\n",
        "usabilidade3 = classificacao['CQUU3']"
      ],
      "metadata": {
        "id": "6fNz-YcgFi-t"
      },
      "execution_count": null,
      "outputs": []
    },
    {
      "cell_type": "code",
      "source": [
        "cquu1 = pd.DataFrame(usabilidade1)\n",
        "cquu1.rename(columns={'CQUU1': 'Critérios'}, inplace = True)\n",
        "cquu2 = pd.DataFrame(usabilidade2)\n",
        "cquu2.rename(columns={'CQUU2': 'Critérios'}, inplace = True)\n",
        "cquu3 = pd.DataFrame(usabilidade3)\n",
        "cquu3.rename(columns={'CQUU3': 'Critérios'}, inplace = True)"
      ],
      "metadata": {
        "id": "2gQitf8bFnRW"
      },
      "execution_count": null,
      "outputs": []
    },
    {
      "cell_type": "code",
      "source": [
        "tabelaUsabilidade = pd.concat([cquu1, cquu2, cquu3])"
      ],
      "metadata": {
        "id": "CamclJgxBvjI"
      },
      "execution_count": null,
      "outputs": []
    },
    {
      "cell_type": "code",
      "source": [
        "tabelaUsabilidade.value_counts()"
      ],
      "metadata": {
        "id": "urhZrewBCYoa"
      },
      "execution_count": null,
      "outputs": []
    },
    {
      "cell_type": "markdown",
      "source": [
        "### Expêriencia do Usuário"
      ],
      "metadata": {
        "id": "pR3j96grKOnP"
      }
    },
    {
      "cell_type": "code",
      "source": [
        "ux = classificacao['CQUUX1']\n",
        "ux1 = classificacao['CQUUX2']"
      ],
      "metadata": {
        "id": "ncYzKJNveD_6"
      },
      "execution_count": null,
      "outputs": []
    },
    {
      "cell_type": "code",
      "source": [
        "cquux1 = pd.DataFrame(ux)\n",
        "cquux1.rename(columns={'CQUUX1': 'Critérios'}, inplace = True)\n",
        "cquux2 = pd.DataFrame(ux1)\n",
        "cquux2.rename(columns={'CQUUX2': 'Critérios'}, inplace = True)"
      ],
      "metadata": {
        "id": "6zHJRs0seMcE"
      },
      "execution_count": null,
      "outputs": []
    },
    {
      "cell_type": "code",
      "source": [
        "tabelaux = pd.concat([cquux1, cquux2])"
      ],
      "metadata": {
        "id": "LyTgFYuXebjT"
      },
      "execution_count": null,
      "outputs": []
    },
    {
      "cell_type": "code",
      "source": [
        "tabelaux.value_counts()"
      ],
      "metadata": {
        "id": "r913PC1_KShs"
      },
      "execution_count": null,
      "outputs": []
    },
    {
      "cell_type": "markdown",
      "source": [
        "# **Grafícos & Tabelas**"
      ],
      "metadata": {
        "id": "_pgOB92eKsc5"
      }
    },
    {
      "cell_type": "markdown",
      "source": [
        "### Funcionalidade"
      ],
      "metadata": {
        "id": "Tmf_qMf-M3WB"
      }
    },
    {
      "cell_type": "code",
      "source": [
        "\n",
        "dados = {\n",
        "    'Funcionalidade': [\n",
        "        'Desempenho', 'Rede', 'Sistema em geral', 'Reprodução de vídeo',\n",
        "        'Login', 'Espelhar', 'Logout', 'Assinatura', 'Catálogo',\n",
        "        'Download de conteúdo', 'Reprodução de vídeo baixado', 'Suporte',\n",
        "        'Interface', 'Recuperar senha', 'Buscar', 'Disponibilidade',\n",
        "        'Perfil', 'Incompatibilidade', 'Lista de episódios', 'Instalação',\n",
        "        'Armazenamento', 'Idioma do aplicativo', 'Ajuste de volume',\n",
        "        'Seleção de séries', 'Censura', 'Reprodução de vídeo ao vivo',\n",
        "        'Censura de conteúdo no perfil adulto', 'Configurações', 'Conta',\n",
        "        'Recuperar conta', 'Página de Downloads', 'Privacidade dos perfis',\n",
        "        'Pop-ups de anúncio', 'Perfil infantil', 'Criar conta',\n",
        "        'Menu Principal', 'Deletar episódios baixados', 'Download do App',\n",
        "        'Lista de filmes assistidos', 'Excesso de atualização',\n",
        "        'Falta de opção favoritar', 'Acessibilidade'\n",
        "    ],\n",
        "    'Quantidade': [\n",
        "        348, 202, 198, 161, 77, 50, 29, 24, 19, 19, 13, 9, 8, 6, 5, 3, 2, 2, 2,\n",
        "        2, 2, 2, 1, 1, 1, 1, 1, 1, 1, 1, 1, 1, 1, 1, 1, 1, 1, 1, 1, 1, 1, 1\n",
        "    ]\n",
        "}\n",
        "\n",
        "funcionalidades = pd.DataFrame(dados)\n",
        "funcionalidades = funcionalidades.set_index('Funcionalidade')\n",
        "funcionalidades"
      ],
      "metadata": {
        "id": "fSCNxHt1K6x4"
      },
      "execution_count": null,
      "outputs": []
    },
    {
      "cell_type": "code",
      "source": [
        "import matplotlib.pyplot as plt\n",
        "import matplotlib.colors as mcolors"
      ],
      "metadata": {
        "id": "M-d7oEalOOHW"
      },
      "execution_count": null,
      "outputs": []
    },
    {
      "cell_type": "code",
      "source": [
        "dadosFuncionalidade = [\n",
        "        'Desempenho', 'Rede', 'Sistema em geral', 'Reprodução de vídeo',\n",
        "        'Login', 'Espelhar', 'Logout', 'Assinatura', 'Catálogo',\n",
        "        'Download de conteúdo', 'Reprodução de vídeo baixado', 'Suporte',\n",
        "        'Interface', 'Recuperar senha', 'Buscar', 'Disponibilidade',\n",
        "        'Perfil', 'Incompatibilidade', 'Lista de episódios', 'Instalação',\n",
        "        'Armazenamento', 'Idioma do aplicativo', 'Ajuste de volume',\n",
        "        'Seleção de séries', 'Censura', 'Reprodução de vídeo ao vivo',\n",
        "        'Censura de conteúdo no perfil adulto', 'Configurações', 'Conta',\n",
        "        'Recuperar conta', 'Página de Downloads', 'Privacidade dos perfis',\n",
        "        'Pop-ups de anúncio', 'Perfil infantil', 'Criar conta',\n",
        "        'Menu Principal', 'Deletar episódios baixados', 'Download do App',\n",
        "        'Lista de filmes assistidos', 'Excesso de atualização',\n",
        "        'Falta de opção favoritar', 'Acessibilidade'\n",
        "    ]\n",
        "quantidadeFuncionalidade = [\n",
        "        348, 202, 198, 161, 77, 50, 29, 24, 19, 19, 13, 9, 8, 6, 5, 3, 2, 2, 2,\n",
        "        2, 2, 2, 1, 1, 1, 1, 1, 1, 1, 1, 1, 1, 1, 1, 1, 1, 1, 1, 1, 1, 1, 1\n",
        "    ]"
      ],
      "metadata": {
        "id": "a9Hi3q-lQAV8"
      },
      "execution_count": null,
      "outputs": []
    },
    {
      "cell_type": "code",
      "source": [
        "fig, ax = plt.subplots(figsize=(12,9))\n",
        "funcionalidade = dadosFuncionalidade\n",
        "quantidade = quantidadeFuncionalidade\n",
        "\n",
        "ax.barh(funcionalidade, quantidade, color='#8A25E5')\n",
        "plt.xticks(rotation=90)\n",
        "\n",
        "#for i, valor in enumerate(quantidadeFuncionalidade):\n",
        "#    plt.text(i, valor + 1, str(valor), ha='center', va='bottom', fontsize=8)\n",
        "\n",
        "ax.set_xlabel('Número de críticas')\n",
        "ax.set_ylabel('Funcionalidades do aplicativo')\n",
        "#ax.set_title('Quantidade de funcionalidades criticadas')\n",
        "\n",
        "\n",
        "for i, valor in enumerate(quantidadeFuncionalidade):\n",
        "    plt.text(valor, i, str(valor), ha='left', va='center', fontsize=8)\n",
        "\n",
        "\n",
        "plt.show()"
      ],
      "metadata": {
        "id": "8iQ8lwQ3Nzd9"
      },
      "execution_count": null,
      "outputs": []
    },
    {
      "cell_type": "markdown",
      "source": [
        "### Artefatos"
      ],
      "metadata": {
        "id": "sKm-pnvgs7Zd"
      }
    },
    {
      "cell_type": "code",
      "source": [
        "dados = {\n",
        "    'Artefato': [\n",
        "        'Celular', 'Smart TV', 'Chromecast', 'Computador',\n",
        "        'TV Box', 'Fire TV Stick', 'Tablet', 'Xbox',\n",
        "        'PlayStation 5', 'AndroidTV', 'MiBox', 'Notebook',\n",
        "        'Realme Stick TV', 'Roku', 'TV Box Vodafone'\n",
        "    ],\n",
        "    'Quantidade': [\n",
        "          825, 65, 29, 7, 6, 3, 3, 3, 2, 1, 1, 1, 1, 1, 1\n",
        "    ]\n",
        "}\n",
        "\n",
        "Artefatos = pd.DataFrame(dados)\n",
        "Artefatos = Artefatos.set_index('Artefato')\n",
        "Artefatos"
      ],
      "metadata": {
        "id": "JDPt31H1tguc"
      },
      "execution_count": null,
      "outputs": []
    },
    {
      "cell_type": "code",
      "source": [
        "dispositivos = [\n",
        "        'Celular', 'Smart TV', 'Chromecast', 'Computador',\n",
        "        'TV Box', 'Fire TV Stick', 'Tablet', 'Xbox',\n",
        "        'PlayStation 5', 'Android TV', 'MiBox', 'Notebook',\n",
        "        'Realme Stick TV', 'Roku', 'TV Box Vodafone'\n",
        "    ]\n",
        "\n",
        "quantDispositivos = [\n",
        "        825, 65, 29, 7, 6, 3, 3, 3, 2, 1, 1, 1, 1, 1, 1\n",
        "    ]"
      ],
      "metadata": {
        "id": "Lj_IjXahu6G8"
      },
      "execution_count": null,
      "outputs": []
    },
    {
      "cell_type": "code",
      "source": [
        "fig, ax = plt.subplots(figsize=(8,6))\n",
        "\n",
        "dispositivo = dispositivos\n",
        "quatidade = quantDispositivos\n",
        "\n",
        "plt.xticks(rotation=80)\n",
        "\n",
        "for i, valor in enumerate(quatidade):\n",
        "    plt.text(i, valor + 1, str(valor), ha='center', va='bottom', fontsize=10)\n",
        "\n",
        "ax.bar(dispositivo, quatidade, color='#8A25E5')\n",
        "\n",
        "ax.set_ylabel('Quantidade')\n",
        "ax.set_title('Numero de dispoítivos encontrados nas PRUs do tipo Crítica')\n",
        "\n",
        "plt.show()"
      ],
      "metadata": {
        "id": "z0mMSDAFt0cm"
      },
      "execution_count": null,
      "outputs": []
    },
    {
      "cell_type": "markdown",
      "source": [
        "### Sentimento"
      ],
      "metadata": {
        "id": "tkfsgMmpyGgC"
      }
    },
    {
      "cell_type": "code",
      "source": [
        "labels = ['Negativo', 'Neutro']\n",
        "sizes = [842, 11]\n",
        "\n",
        "fig, ax = plt.subplots()\n",
        "wedges, texts, autotexts = ax.pie(sizes, labels=labels, colors=['#6D0DD1', '#417CD6'], autopct='')\n",
        "\n",
        "for i, val in enumerate(sizes):\n",
        "    autotexts[i].set_text(str(val))\n",
        "\n",
        "for autotext in autotexts:\n",
        "    autotext.set_color('white')\n",
        "\n",
        "plt.show()"
      ],
      "metadata": {
        "id": "-kvdZFqoyIlf"
      },
      "execution_count": null,
      "outputs": []
    },
    {
      "cell_type": "markdown",
      "source": [
        "### Usabilidade"
      ],
      "metadata": {
        "id": "0FHaQ5WX0y1T"
      }
    },
    {
      "cell_type": "code",
      "source": [
        "dados = {\n",
        "    'Dimensão': ['Eficácia', 'Eficiência', 'Utilidade', 'Aprendizado', 'Segurança'],\n",
        "    'Quantidade': [639, 359, 285, 5, 1]\n",
        "}\n",
        "\n",
        "\n",
        "Usabilidade = pd.DataFrame(dados)\n",
        "Usabilidade = Usabilidade.set_index('Dimensão')\n",
        "Usabilidade"
      ],
      "metadata": {
        "id": "1Jv--RjU0090"
      },
      "execution_count": null,
      "outputs": []
    },
    {
      "cell_type": "code",
      "source": [
        "Dimensao = ['Eficácia', 'Eficiência', 'Utilidade', 'Aprendizado', 'Segurança']\n",
        "Quantidade = [639, 359, 285, 5, 1]"
      ],
      "metadata": {
        "id": "z4wIZk801U4V"
      },
      "execution_count": null,
      "outputs": []
    },
    {
      "cell_type": "code",
      "source": [
        "fig, ax = plt.subplots(figsize=(8,6))\n",
        "\n",
        "usab = Dimensao\n",
        "quatidade = Quantidade\n",
        "\n",
        "plt.xticks(rotation=80)\n",
        "\n",
        "for i, valor in enumerate(quatidade):\n",
        "    plt.text(i, valor + 1, str(valor), ha='center', va='bottom', fontsize=10)\n",
        "\n",
        "ax.bar(usab, quatidade, color='#8A25E5')\n",
        "\n",
        "ax.set_ylabel('Quantidade')\n",
        "ax.set_title('Ocorrências de problemas relacionadas a usabilidade nas PRUs do tipo Crítica')\n",
        "\n",
        "plt.show()"
      ],
      "metadata": {
        "id": "8NMR_3_G1clN"
      },
      "execution_count": null,
      "outputs": []
    },
    {
      "cell_type": "markdown",
      "source": [
        "### Experiência do Usuário"
      ],
      "metadata": {
        "id": "xbon8E-i2V6c"
      }
    },
    {
      "cell_type": "code",
      "source": [
        "labels = ['Frustração']\n",
        "sizes = [853]\n",
        "\n",
        "fig, ax = plt.subplots()\n",
        "wedges, texts, autotexts = ax.pie(sizes, labels=labels, colors=['#6D0DD1'], autopct='')\n",
        "\n",
        "for i, val in enumerate(sizes):\n",
        "    autotexts[i].set_text(str(val))\n",
        "\n",
        "for autotext in autotexts:\n",
        "    autotext.set_color('white')\n",
        "\n",
        "plt.show()"
      ],
      "metadata": {
        "id": "ZKpxngag2dUc"
      },
      "execution_count": null,
      "outputs": []
    }
  ]
}