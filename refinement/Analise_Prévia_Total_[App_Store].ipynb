{
  "nbformat": 4,
  "nbformat_minor": 0,
  "metadata": {
    "colab": {
      "provenance": []
    },
    "kernelspec": {
      "name": "python3",
      "display_name": "Python 3"
    },
    "language_info": {
      "name": "python"
    }
  },
  "cells": [
    {
      "cell_type": "code",
      "execution_count": null,
      "metadata": {
        "id": "OyirpUNpkZ8J"
      },
      "outputs": [],
      "source": [
        "import pandas as pd"
      ]
    },
    {
      "cell_type": "code",
      "source": [
        "classificacao = pd.read_csv('/content/drive/MyDrive/Planilhas - App Store/Classificação [appstore] - Classificação [Python] v.9.csv')"
      ],
      "metadata": {
        "id": "bIFdpR6fkhfP"
      },
      "execution_count": null,
      "outputs": []
    },
    {
      "cell_type": "code",
      "source": [
        "classificacao"
      ],
      "metadata": {
        "colab": {
          "base_uri": "https://localhost:8080/",
          "height": 947
        },
        "id": "DaCvxKRskiIJ",
        "outputId": "1543ab0b-664e-41c1-e801-15d544fb6da8"
      },
      "execution_count": null,
      "outputs": [
        {
          "output_type": "execute_result",
          "data": {
            "text/plain": [
              "       ID                                          Comentário        Tipo  \\\n",
              "0        1  O app para o celular é demorado e tem muita di...     Crítica   \n",
              "1        2                         Mais lento que o da Disney  Comparação   \n",
              "2        3  Simplesmente associaram o Core à aliciadores e...     Crítica   \n",
              "3        4  Porque atacar o meu YouTuber preferido…   (O c...     Crítica   \n",
              "4        5                                  Muito bom o app,       Elogio   \n",
              "...    ...                                                ...         ...   \n",
              "1181  1182  Mas de resto, muito bom. Vocês são uma platafo...      Elogio   \n",
              "1182  1183  - quando está assistindo a vários episódios um...    Sugestão   \n",
              "1183  1184  - a legenda é configurada pelo celular. Seria ...    Sugestão   \n",
              "1184  1185              Tirando isso o aplicativo é muito bom      Elogio   \n",
              "1185  1186  Um ponto que poderia ser acrescentado é a velo...    Sugestão   \n",
              "\n",
              "                                F1                    F2   F3   F4   F5   F6  \\\n",
              "0                       Desempenho  Download de conteúdo  NaN  NaN  NaN  NaN   \n",
              "1                       Desempenho                   NaN  NaN  NaN  NaN  NaN   \n",
              "2                         Catálogo                   NaN  NaN  NaN  NaN  NaN   \n",
              "3                         Catálogo                   NaN  NaN  NaN  NaN  NaN   \n",
              "4                 Sistema em geral                   NaN  NaN  NaN  NaN  NaN   \n",
              "...                            ...                   ...  ...  ...  ...  ...   \n",
              "1181              Sistema em geral                   NaN  NaN  NaN  NaN  NaN   \n",
              "1182      \"Ainda está assistindo?\"                   NaN  NaN  NaN  NaN  NaN   \n",
              "1183                  Configuração                   NaN  NaN  NaN  NaN  NaN   \n",
              "1184              Sistema em geral                   NaN  NaN  NaN  NaN  NaN   \n",
              "1185  Acelerar Reprodução de vídeo                   NaN  NaN  NaN  NaN  NaN   \n",
              "\n",
              "           A1   A2   A3   A4 Sentimento       CQUU1       CQUU2      CQUU3  \\\n",
              "0     Celular  NaN  NaN  NaN   Negativo    Eficácia  Eficiência  Utilidade   \n",
              "1     Celular  NaN  NaN  NaN     Neutro  Eficiência         NaN        NaN   \n",
              "2     Celular  NaN  NaN  NaN   Negativo    Eficácia         NaN        NaN   \n",
              "3     Celular  NaN  NaN  NaN   Negativo    Eficácia         NaN        NaN   \n",
              "4     Celular  NaN  NaN  NaN   Positivo    Eficácia         NaN        NaN   \n",
              "...       ...  ...  ...  ...        ...         ...         ...        ...   \n",
              "1181  Celular  NaN  NaN  NaN   Positivo    Eficácia         NaN        NaN   \n",
              "1182  Celular  NaN  NaN  NaN   Positivo   Utilidade         NaN        NaN   \n",
              "1183  Celular  NaN  NaN  NaN     Neutro   Utilidade         NaN        NaN   \n",
              "1184  Celular  NaN  NaN  NaN   Positivo    Eficácia         NaN        NaN   \n",
              "1185  Celular  NaN  NaN  NaN     Neutro   Utilidade         NaN        NaN   \n",
              "\n",
              "          CQUUX1 CQUUX2  \n",
              "0     Frustração    NaN  \n",
              "1     Frustração    NaN  \n",
              "2     Frustração    NaN  \n",
              "3     Frustração    NaN  \n",
              "4     Satisfação    NaN  \n",
              "...          ...    ...  \n",
              "1181  Satisfação    NaN  \n",
              "1182   Motivação    NaN  \n",
              "1183   Motivação    NaN  \n",
              "1184  Satisfação    NaN  \n",
              "1185   Motivação    NaN  \n",
              "\n",
              "[1186 rows x 19 columns]"
            ],
            "text/html": [
              "\n",
              "  <div id=\"df-cbd004cd-5624-4ef1-b4c7-cd3e2e74426b\" class=\"colab-df-container\">\n",
              "    <div>\n",
              "<style scoped>\n",
              "    .dataframe tbody tr th:only-of-type {\n",
              "        vertical-align: middle;\n",
              "    }\n",
              "\n",
              "    .dataframe tbody tr th {\n",
              "        vertical-align: top;\n",
              "    }\n",
              "\n",
              "    .dataframe thead th {\n",
              "        text-align: right;\n",
              "    }\n",
              "</style>\n",
              "<table border=\"1\" class=\"dataframe\">\n",
              "  <thead>\n",
              "    <tr style=\"text-align: right;\">\n",
              "      <th></th>\n",
              "      <th>ID</th>\n",
              "      <th>Comentário</th>\n",
              "      <th>Tipo</th>\n",
              "      <th>F1</th>\n",
              "      <th>F2</th>\n",
              "      <th>F3</th>\n",
              "      <th>F4</th>\n",
              "      <th>F5</th>\n",
              "      <th>F6</th>\n",
              "      <th>A1</th>\n",
              "      <th>A2</th>\n",
              "      <th>A3</th>\n",
              "      <th>A4</th>\n",
              "      <th>Sentimento</th>\n",
              "      <th>CQUU1</th>\n",
              "      <th>CQUU2</th>\n",
              "      <th>CQUU3</th>\n",
              "      <th>CQUUX1</th>\n",
              "      <th>CQUUX2</th>\n",
              "    </tr>\n",
              "  </thead>\n",
              "  <tbody>\n",
              "    <tr>\n",
              "      <th>0</th>\n",
              "      <td>1</td>\n",
              "      <td>O app para o celular é demorado e tem muita di...</td>\n",
              "      <td>Crítica</td>\n",
              "      <td>Desempenho</td>\n",
              "      <td>Download de conteúdo</td>\n",
              "      <td>NaN</td>\n",
              "      <td>NaN</td>\n",
              "      <td>NaN</td>\n",
              "      <td>NaN</td>\n",
              "      <td>Celular</td>\n",
              "      <td>NaN</td>\n",
              "      <td>NaN</td>\n",
              "      <td>NaN</td>\n",
              "      <td>Negativo</td>\n",
              "      <td>Eficácia</td>\n",
              "      <td>Eficiência</td>\n",
              "      <td>Utilidade</td>\n",
              "      <td>Frustração</td>\n",
              "      <td>NaN</td>\n",
              "    </tr>\n",
              "    <tr>\n",
              "      <th>1</th>\n",
              "      <td>2</td>\n",
              "      <td>Mais lento que o da Disney</td>\n",
              "      <td>Comparação</td>\n",
              "      <td>Desempenho</td>\n",
              "      <td>NaN</td>\n",
              "      <td>NaN</td>\n",
              "      <td>NaN</td>\n",
              "      <td>NaN</td>\n",
              "      <td>NaN</td>\n",
              "      <td>Celular</td>\n",
              "      <td>NaN</td>\n",
              "      <td>NaN</td>\n",
              "      <td>NaN</td>\n",
              "      <td>Neutro</td>\n",
              "      <td>Eficiência</td>\n",
              "      <td>NaN</td>\n",
              "      <td>NaN</td>\n",
              "      <td>Frustração</td>\n",
              "      <td>NaN</td>\n",
              "    </tr>\n",
              "    <tr>\n",
              "      <th>2</th>\n",
              "      <td>3</td>\n",
              "      <td>Simplesmente associaram o Core à aliciadores e...</td>\n",
              "      <td>Crítica</td>\n",
              "      <td>Catálogo</td>\n",
              "      <td>NaN</td>\n",
              "      <td>NaN</td>\n",
              "      <td>NaN</td>\n",
              "      <td>NaN</td>\n",
              "      <td>NaN</td>\n",
              "      <td>Celular</td>\n",
              "      <td>NaN</td>\n",
              "      <td>NaN</td>\n",
              "      <td>NaN</td>\n",
              "      <td>Negativo</td>\n",
              "      <td>Eficácia</td>\n",
              "      <td>NaN</td>\n",
              "      <td>NaN</td>\n",
              "      <td>Frustração</td>\n",
              "      <td>NaN</td>\n",
              "    </tr>\n",
              "    <tr>\n",
              "      <th>3</th>\n",
              "      <td>4</td>\n",
              "      <td>Porque atacar o meu YouTuber preferido…   (O c...</td>\n",
              "      <td>Crítica</td>\n",
              "      <td>Catálogo</td>\n",
              "      <td>NaN</td>\n",
              "      <td>NaN</td>\n",
              "      <td>NaN</td>\n",
              "      <td>NaN</td>\n",
              "      <td>NaN</td>\n",
              "      <td>Celular</td>\n",
              "      <td>NaN</td>\n",
              "      <td>NaN</td>\n",
              "      <td>NaN</td>\n",
              "      <td>Negativo</td>\n",
              "      <td>Eficácia</td>\n",
              "      <td>NaN</td>\n",
              "      <td>NaN</td>\n",
              "      <td>Frustração</td>\n",
              "      <td>NaN</td>\n",
              "    </tr>\n",
              "    <tr>\n",
              "      <th>4</th>\n",
              "      <td>5</td>\n",
              "      <td>Muito bom o app,</td>\n",
              "      <td>Elogio</td>\n",
              "      <td>Sistema em geral</td>\n",
              "      <td>NaN</td>\n",
              "      <td>NaN</td>\n",
              "      <td>NaN</td>\n",
              "      <td>NaN</td>\n",
              "      <td>NaN</td>\n",
              "      <td>Celular</td>\n",
              "      <td>NaN</td>\n",
              "      <td>NaN</td>\n",
              "      <td>NaN</td>\n",
              "      <td>Positivo</td>\n",
              "      <td>Eficácia</td>\n",
              "      <td>NaN</td>\n",
              "      <td>NaN</td>\n",
              "      <td>Satisfação</td>\n",
              "      <td>NaN</td>\n",
              "    </tr>\n",
              "    <tr>\n",
              "      <th>...</th>\n",
              "      <td>...</td>\n",
              "      <td>...</td>\n",
              "      <td>...</td>\n",
              "      <td>...</td>\n",
              "      <td>...</td>\n",
              "      <td>...</td>\n",
              "      <td>...</td>\n",
              "      <td>...</td>\n",
              "      <td>...</td>\n",
              "      <td>...</td>\n",
              "      <td>...</td>\n",
              "      <td>...</td>\n",
              "      <td>...</td>\n",
              "      <td>...</td>\n",
              "      <td>...</td>\n",
              "      <td>...</td>\n",
              "      <td>...</td>\n",
              "      <td>...</td>\n",
              "      <td>...</td>\n",
              "    </tr>\n",
              "    <tr>\n",
              "      <th>1181</th>\n",
              "      <td>1182</td>\n",
              "      <td>Mas de resto, muito bom. Vocês são uma platafo...</td>\n",
              "      <td>Elogio</td>\n",
              "      <td>Sistema em geral</td>\n",
              "      <td>NaN</td>\n",
              "      <td>NaN</td>\n",
              "      <td>NaN</td>\n",
              "      <td>NaN</td>\n",
              "      <td>NaN</td>\n",
              "      <td>Celular</td>\n",
              "      <td>NaN</td>\n",
              "      <td>NaN</td>\n",
              "      <td>NaN</td>\n",
              "      <td>Positivo</td>\n",
              "      <td>Eficácia</td>\n",
              "      <td>NaN</td>\n",
              "      <td>NaN</td>\n",
              "      <td>Satisfação</td>\n",
              "      <td>NaN</td>\n",
              "    </tr>\n",
              "    <tr>\n",
              "      <th>1182</th>\n",
              "      <td>1183</td>\n",
              "      <td>- quando está assistindo a vários episódios um...</td>\n",
              "      <td>Sugestão</td>\n",
              "      <td>\"Ainda está assistindo?\"</td>\n",
              "      <td>NaN</td>\n",
              "      <td>NaN</td>\n",
              "      <td>NaN</td>\n",
              "      <td>NaN</td>\n",
              "      <td>NaN</td>\n",
              "      <td>Celular</td>\n",
              "      <td>NaN</td>\n",
              "      <td>NaN</td>\n",
              "      <td>NaN</td>\n",
              "      <td>Positivo</td>\n",
              "      <td>Utilidade</td>\n",
              "      <td>NaN</td>\n",
              "      <td>NaN</td>\n",
              "      <td>Motivação</td>\n",
              "      <td>NaN</td>\n",
              "    </tr>\n",
              "    <tr>\n",
              "      <th>1183</th>\n",
              "      <td>1184</td>\n",
              "      <td>- a legenda é configurada pelo celular. Seria ...</td>\n",
              "      <td>Sugestão</td>\n",
              "      <td>Configuração</td>\n",
              "      <td>NaN</td>\n",
              "      <td>NaN</td>\n",
              "      <td>NaN</td>\n",
              "      <td>NaN</td>\n",
              "      <td>NaN</td>\n",
              "      <td>Celular</td>\n",
              "      <td>NaN</td>\n",
              "      <td>NaN</td>\n",
              "      <td>NaN</td>\n",
              "      <td>Neutro</td>\n",
              "      <td>Utilidade</td>\n",
              "      <td>NaN</td>\n",
              "      <td>NaN</td>\n",
              "      <td>Motivação</td>\n",
              "      <td>NaN</td>\n",
              "    </tr>\n",
              "    <tr>\n",
              "      <th>1184</th>\n",
              "      <td>1185</td>\n",
              "      <td>Tirando isso o aplicativo é muito bom</td>\n",
              "      <td>Elogio</td>\n",
              "      <td>Sistema em geral</td>\n",
              "      <td>NaN</td>\n",
              "      <td>NaN</td>\n",
              "      <td>NaN</td>\n",
              "      <td>NaN</td>\n",
              "      <td>NaN</td>\n",
              "      <td>Celular</td>\n",
              "      <td>NaN</td>\n",
              "      <td>NaN</td>\n",
              "      <td>NaN</td>\n",
              "      <td>Positivo</td>\n",
              "      <td>Eficácia</td>\n",
              "      <td>NaN</td>\n",
              "      <td>NaN</td>\n",
              "      <td>Satisfação</td>\n",
              "      <td>NaN</td>\n",
              "    </tr>\n",
              "    <tr>\n",
              "      <th>1185</th>\n",
              "      <td>1186</td>\n",
              "      <td>Um ponto que poderia ser acrescentado é a velo...</td>\n",
              "      <td>Sugestão</td>\n",
              "      <td>Acelerar Reprodução de vídeo</td>\n",
              "      <td>NaN</td>\n",
              "      <td>NaN</td>\n",
              "      <td>NaN</td>\n",
              "      <td>NaN</td>\n",
              "      <td>NaN</td>\n",
              "      <td>Celular</td>\n",
              "      <td>NaN</td>\n",
              "      <td>NaN</td>\n",
              "      <td>NaN</td>\n",
              "      <td>Neutro</td>\n",
              "      <td>Utilidade</td>\n",
              "      <td>NaN</td>\n",
              "      <td>NaN</td>\n",
              "      <td>Motivação</td>\n",
              "      <td>NaN</td>\n",
              "    </tr>\n",
              "  </tbody>\n",
              "</table>\n",
              "<p>1186 rows × 19 columns</p>\n",
              "</div>\n",
              "    <div class=\"colab-df-buttons\">\n",
              "\n",
              "  <div class=\"colab-df-container\">\n",
              "    <button class=\"colab-df-convert\" onclick=\"convertToInteractive('df-cbd004cd-5624-4ef1-b4c7-cd3e2e74426b')\"\n",
              "            title=\"Convert this dataframe to an interactive table.\"\n",
              "            style=\"display:none;\">\n",
              "\n",
              "  <svg xmlns=\"http://www.w3.org/2000/svg\" height=\"24px\" viewBox=\"0 -960 960 960\">\n",
              "    <path d=\"M120-120v-720h720v720H120Zm60-500h600v-160H180v160Zm220 220h160v-160H400v160Zm0 220h160v-160H400v160ZM180-400h160v-160H180v160Zm440 0h160v-160H620v160ZM180-180h160v-160H180v160Zm440 0h160v-160H620v160Z\"/>\n",
              "  </svg>\n",
              "    </button>\n",
              "\n",
              "  <style>\n",
              "    .colab-df-container {\n",
              "      display:flex;\n",
              "      gap: 12px;\n",
              "    }\n",
              "\n",
              "    .colab-df-convert {\n",
              "      background-color: #E8F0FE;\n",
              "      border: none;\n",
              "      border-radius: 50%;\n",
              "      cursor: pointer;\n",
              "      display: none;\n",
              "      fill: #1967D2;\n",
              "      height: 32px;\n",
              "      padding: 0 0 0 0;\n",
              "      width: 32px;\n",
              "    }\n",
              "\n",
              "    .colab-df-convert:hover {\n",
              "      background-color: #E2EBFA;\n",
              "      box-shadow: 0px 1px 2px rgba(60, 64, 67, 0.3), 0px 1px 3px 1px rgba(60, 64, 67, 0.15);\n",
              "      fill: #174EA6;\n",
              "    }\n",
              "\n",
              "    .colab-df-buttons div {\n",
              "      margin-bottom: 4px;\n",
              "    }\n",
              "\n",
              "    [theme=dark] .colab-df-convert {\n",
              "      background-color: #3B4455;\n",
              "      fill: #D2E3FC;\n",
              "    }\n",
              "\n",
              "    [theme=dark] .colab-df-convert:hover {\n",
              "      background-color: #434B5C;\n",
              "      box-shadow: 0px 1px 3px 1px rgba(0, 0, 0, 0.15);\n",
              "      filter: drop-shadow(0px 1px 2px rgba(0, 0, 0, 0.3));\n",
              "      fill: #FFFFFF;\n",
              "    }\n",
              "  </style>\n",
              "\n",
              "    <script>\n",
              "      const buttonEl =\n",
              "        document.querySelector('#df-cbd004cd-5624-4ef1-b4c7-cd3e2e74426b button.colab-df-convert');\n",
              "      buttonEl.style.display =\n",
              "        google.colab.kernel.accessAllowed ? 'block' : 'none';\n",
              "\n",
              "      async function convertToInteractive(key) {\n",
              "        const element = document.querySelector('#df-cbd004cd-5624-4ef1-b4c7-cd3e2e74426b');\n",
              "        const dataTable =\n",
              "          await google.colab.kernel.invokeFunction('convertToInteractive',\n",
              "                                                    [key], {});\n",
              "        if (!dataTable) return;\n",
              "\n",
              "        const docLinkHtml = 'Like what you see? Visit the ' +\n",
              "          '<a target=\"_blank\" href=https://colab.research.google.com/notebooks/data_table.ipynb>data table notebook</a>'\n",
              "          + ' to learn more about interactive tables.';\n",
              "        element.innerHTML = '';\n",
              "        dataTable['output_type'] = 'display_data';\n",
              "        await google.colab.output.renderOutput(dataTable, element);\n",
              "        const docLink = document.createElement('div');\n",
              "        docLink.innerHTML = docLinkHtml;\n",
              "        element.appendChild(docLink);\n",
              "      }\n",
              "    </script>\n",
              "  </div>\n",
              "\n",
              "\n",
              "<div id=\"df-f668e450-ed2d-4da1-950d-e3063ee2e536\">\n",
              "  <button class=\"colab-df-quickchart\" onclick=\"quickchart('df-f668e450-ed2d-4da1-950d-e3063ee2e536')\"\n",
              "            title=\"Suggest charts.\"\n",
              "            style=\"display:none;\">\n",
              "\n",
              "<svg xmlns=\"http://www.w3.org/2000/svg\" height=\"24px\"viewBox=\"0 0 24 24\"\n",
              "     width=\"24px\">\n",
              "    <g>\n",
              "        <path d=\"M19 3H5c-1.1 0-2 .9-2 2v14c0 1.1.9 2 2 2h14c1.1 0 2-.9 2-2V5c0-1.1-.9-2-2-2zM9 17H7v-7h2v7zm4 0h-2V7h2v10zm4 0h-2v-4h2v4z\"/>\n",
              "    </g>\n",
              "</svg>\n",
              "  </button>\n",
              "\n",
              "<style>\n",
              "  .colab-df-quickchart {\n",
              "      --bg-color: #E8F0FE;\n",
              "      --fill-color: #1967D2;\n",
              "      --hover-bg-color: #E2EBFA;\n",
              "      --hover-fill-color: #174EA6;\n",
              "      --disabled-fill-color: #AAA;\n",
              "      --disabled-bg-color: #DDD;\n",
              "  }\n",
              "\n",
              "  [theme=dark] .colab-df-quickchart {\n",
              "      --bg-color: #3B4455;\n",
              "      --fill-color: #D2E3FC;\n",
              "      --hover-bg-color: #434B5C;\n",
              "      --hover-fill-color: #FFFFFF;\n",
              "      --disabled-bg-color: #3B4455;\n",
              "      --disabled-fill-color: #666;\n",
              "  }\n",
              "\n",
              "  .colab-df-quickchart {\n",
              "    background-color: var(--bg-color);\n",
              "    border: none;\n",
              "    border-radius: 50%;\n",
              "    cursor: pointer;\n",
              "    display: none;\n",
              "    fill: var(--fill-color);\n",
              "    height: 32px;\n",
              "    padding: 0;\n",
              "    width: 32px;\n",
              "  }\n",
              "\n",
              "  .colab-df-quickchart:hover {\n",
              "    background-color: var(--hover-bg-color);\n",
              "    box-shadow: 0 1px 2px rgba(60, 64, 67, 0.3), 0 1px 3px 1px rgba(60, 64, 67, 0.15);\n",
              "    fill: var(--button-hover-fill-color);\n",
              "  }\n",
              "\n",
              "  .colab-df-quickchart-complete:disabled,\n",
              "  .colab-df-quickchart-complete:disabled:hover {\n",
              "    background-color: var(--disabled-bg-color);\n",
              "    fill: var(--disabled-fill-color);\n",
              "    box-shadow: none;\n",
              "  }\n",
              "\n",
              "  .colab-df-spinner {\n",
              "    border: 2px solid var(--fill-color);\n",
              "    border-color: transparent;\n",
              "    border-bottom-color: var(--fill-color);\n",
              "    animation:\n",
              "      spin 1s steps(1) infinite;\n",
              "  }\n",
              "\n",
              "  @keyframes spin {\n",
              "    0% {\n",
              "      border-color: transparent;\n",
              "      border-bottom-color: var(--fill-color);\n",
              "      border-left-color: var(--fill-color);\n",
              "    }\n",
              "    20% {\n",
              "      border-color: transparent;\n",
              "      border-left-color: var(--fill-color);\n",
              "      border-top-color: var(--fill-color);\n",
              "    }\n",
              "    30% {\n",
              "      border-color: transparent;\n",
              "      border-left-color: var(--fill-color);\n",
              "      border-top-color: var(--fill-color);\n",
              "      border-right-color: var(--fill-color);\n",
              "    }\n",
              "    40% {\n",
              "      border-color: transparent;\n",
              "      border-right-color: var(--fill-color);\n",
              "      border-top-color: var(--fill-color);\n",
              "    }\n",
              "    60% {\n",
              "      border-color: transparent;\n",
              "      border-right-color: var(--fill-color);\n",
              "    }\n",
              "    80% {\n",
              "      border-color: transparent;\n",
              "      border-right-color: var(--fill-color);\n",
              "      border-bottom-color: var(--fill-color);\n",
              "    }\n",
              "    90% {\n",
              "      border-color: transparent;\n",
              "      border-bottom-color: var(--fill-color);\n",
              "    }\n",
              "  }\n",
              "</style>\n",
              "\n",
              "  <script>\n",
              "    async function quickchart(key) {\n",
              "      const quickchartButtonEl =\n",
              "        document.querySelector('#' + key + ' button');\n",
              "      quickchartButtonEl.disabled = true;  // To prevent multiple clicks.\n",
              "      quickchartButtonEl.classList.add('colab-df-spinner');\n",
              "      try {\n",
              "        const charts = await google.colab.kernel.invokeFunction(\n",
              "            'suggestCharts', [key], {});\n",
              "      } catch (error) {\n",
              "        console.error('Error during call to suggestCharts:', error);\n",
              "      }\n",
              "      quickchartButtonEl.classList.remove('colab-df-spinner');\n",
              "      quickchartButtonEl.classList.add('colab-df-quickchart-complete');\n",
              "    }\n",
              "    (() => {\n",
              "      let quickchartButtonEl =\n",
              "        document.querySelector('#df-f668e450-ed2d-4da1-950d-e3063ee2e536 button');\n",
              "      quickchartButtonEl.style.display =\n",
              "        google.colab.kernel.accessAllowed ? 'block' : 'none';\n",
              "    })();\n",
              "  </script>\n",
              "</div>\n",
              "    </div>\n",
              "  </div>\n"
            ]
          },
          "metadata": {},
          "execution_count": 54
        }
      ]
    },
    {
      "cell_type": "markdown",
      "source": [
        "# **Entendendo os dados**"
      ],
      "metadata": {
        "id": "7RATN6RJKhFN"
      }
    },
    {
      "cell_type": "code",
      "source": [
        "funcionalidade1 = classificacao['F1'].value_counts()\n",
        "funcionalidade1"
      ],
      "metadata": {
        "colab": {
          "base_uri": "https://localhost:8080/"
        },
        "id": "UhvxN9ZwkmGT",
        "outputId": "2700bf57-1afc-4dea-92fe-39f89067e262"
      },
      "execution_count": null,
      "outputs": [
        {
          "output_type": "execute_result",
          "data": {
            "text/plain": [
              "Desempenho                         313\n",
              "Catálogo                           167\n",
              "Sistema em geral                   154\n",
              "Rede                                70\n",
              "Ajuste de legenda                   65\n",
              "Espelhar                            61\n",
              "Reprodução de vídeo                 53\n",
              "Atualização                         50\n",
              "Login                               41\n",
              "Reprodução de vídeo baixado         36\n",
              "Assinatura                          26\n",
              "Download de conteúdo                24\n",
              "Idioma de reprodução                22\n",
              "-                                   14\n",
              "Buscar                              12\n",
              "Suporte                              8\n",
              "Lista de conteúdo assistido          7\n",
              "Interface                            7\n",
              "Incompatibilidade                    6\n",
              "Logout                               6\n",
              "Acelerar Reprodução de vídeo         4\n",
              "Perfil                               3\n",
              "Recuperar senha                      3\n",
              "Reprodução automática                3\n",
              "Reprodução de vídeo ao vivo          3\n",
              "Disponibilidade                      2\n",
              "Picture-in-picture                   2\n",
              "Qualidade de reprodução              2\n",
              "Idioma do Aplicativo                 2\n",
              "Configuração                         2\n",
              "Trailers                             1\n",
              "Aba lançamentos                      1\n",
              "Botões \"Rewind\" e \"Fast Foward\"      1\n",
              "Desativar reprodução autómatica      1\n",
              "Organização em grade                 1\n",
              "Brilho                               1\n",
              "Compartilhar indicação               1\n",
              "Instalação                           1\n",
              "Menu Principal                       1\n",
              "Página de Downloads                  1\n",
              "Dispositivos conectados              1\n",
              "Download do App                      1\n",
              "Recuperar conta                      1\n",
              "Navegação                            1\n",
              "Desinstalar o App                    1\n",
              "Seleção de séries                    1\n",
              "Senhas para perfil                   1\n",
              "\"Ainda está assistindo?\"             1\n",
              "Name: F1, dtype: int64"
            ]
          },
          "metadata": {},
          "execution_count": 55
        }
      ]
    },
    {
      "cell_type": "code",
      "source": [
        "funcionalidade2 = classificacao['F2'].value_counts()\n",
        "funcionalidade2"
      ],
      "metadata": {
        "colab": {
          "base_uri": "https://localhost:8080/"
        },
        "id": "rXl4IyQmkmxM",
        "outputId": "fb44e080-3805-4b0f-a2c1-580fed96ab4f"
      },
      "execution_count": null,
      "outputs": [
        {
          "output_type": "execute_result",
          "data": {
            "text/plain": [
              "Reprodução de vídeo            59\n",
              "Ajuste de legenda              44\n",
              "Desempenho                     44\n",
              "Idioma de reprodução           28\n",
              "Rede                           28\n",
              "Espelhar                       24\n",
              "Catálogo                       15\n",
              "Reprodução de vídeo baixado    15\n",
              "Buscar                         15\n",
              "Download de conteúdo           12\n",
              "Logout                          8\n",
              "Interface                       8\n",
              "Assinatura                      8\n",
              "Sistema em geral                7\n",
              "Login                           6\n",
              "Suporte                         5\n",
              "Lista de conteúdo assistido     4\n",
              "Reprodução automática           3\n",
              "Menu Principal                  3\n",
              "Atualização                     2\n",
              "Incompatibilidade               2\n",
              "Deletar episódios baixados      2\n",
              "Idioma do Aplicativo            2\n",
              "Recuperar conta                 2\n",
              "Recuperar senha                 2\n",
              "Reprodução de vídeo ao vivo     1\n",
              "Configuração                    1\n",
              "Perfil                          1\n",
              "Orientação na vertical          1\n",
              "Name: F2, dtype: int64"
            ]
          },
          "metadata": {},
          "execution_count": 56
        }
      ]
    },
    {
      "cell_type": "code",
      "source": [
        "funcionalidade3 = classificacao['F3'].value_counts()\n",
        "funcionalidade3"
      ],
      "metadata": {
        "colab": {
          "base_uri": "https://localhost:8080/"
        },
        "id": "iNDeemD2kpLM",
        "outputId": "a48c5638-26ce-49b0-8ece-ba4fe5e10e5f"
      },
      "execution_count": null,
      "outputs": [
        {
          "output_type": "execute_result",
          "data": {
            "text/plain": [
              "Desempenho                     25\n",
              "Ajuste de legenda              18\n",
              "Idioma de reprodução           16\n",
              "Reprodução de vídeo            15\n",
              "Espelhar                        8\n",
              "Rede                            8\n",
              "Catálogo                        5\n",
              "Suporte                         4\n",
              "Buscar                          4\n",
              "Download de conteúdo            3\n",
              "Interface                       3\n",
              "Lista de conteúdo assistido     2\n",
              "Reprodução de vídeo baixado     2\n",
              "Login                           2\n",
              "Anúncio                         1\n",
              "Correção de bugs                1\n",
              "Recuperar senha                 1\n",
              "Idioma do Aplicativo            1\n",
              "Incompatibilidade               1\n",
              "Assinatura                      1\n",
              "Lista de episódios              1\n",
              "Reprodução de vídeo ao vivo     1\n",
              "Name: F3, dtype: int64"
            ]
          },
          "metadata": {},
          "execution_count": 57
        }
      ]
    },
    {
      "cell_type": "code",
      "source": [
        "funcionalidade4 = classificacao['F4'].value_counts()\n",
        "funcionalidade4"
      ],
      "metadata": {
        "colab": {
          "base_uri": "https://localhost:8080/"
        },
        "id": "_ks8cQpQkrhu",
        "outputId": "8b4e524f-3e65-4831-ea49-c1211057e6ea"
      },
      "execution_count": null,
      "outputs": [
        {
          "output_type": "execute_result",
          "data": {
            "text/plain": [
              "Reprodução de vídeo            5\n",
              "Ajuste de legenda              5\n",
              "Desempenho                     5\n",
              "Espelhar                       4\n",
              "Buscar                         4\n",
              "Rede                           3\n",
              "Idioma de reprodução           3\n",
              "Lista de conteúdo assistido    2\n",
              "Interface                      1\n",
              "Login                          1\n",
              "Refinamento do Layout          1\n",
              "Download de conteúdo           1\n",
              "Configuração                   1\n",
              "Assinatura                     1\n",
              "Lista de episódios             1\n",
              "Reprodução automática          1\n",
              "Name: F4, dtype: int64"
            ]
          },
          "metadata": {},
          "execution_count": 58
        }
      ]
    },
    {
      "cell_type": "code",
      "source": [
        "funcionalidade5 = classificacao['F5'].value_counts()\n",
        "funcionalidade5"
      ],
      "metadata": {
        "colab": {
          "base_uri": "https://localhost:8080/"
        },
        "id": "y31Pxki0cgHx",
        "outputId": "77bc566d-d909-4c76-f043-497c31e71d41"
      },
      "execution_count": null,
      "outputs": [
        {
          "output_type": "execute_result",
          "data": {
            "text/plain": [
              "Desempenho                     3\n",
              "Rede                           1\n",
              "Perfil                         1\n",
              "Ajuste de legenda              1\n",
              "Reprodução de vídeo baixado    1\n",
              "Reprodução de vídeo            1\n",
              "Name: F5, dtype: int64"
            ]
          },
          "metadata": {},
          "execution_count": 59
        }
      ]
    },
    {
      "cell_type": "code",
      "source": [
        "funcionalidade6 = classificacao['F6'].value_counts()\n",
        "funcionalidade6"
      ],
      "metadata": {
        "colab": {
          "base_uri": "https://localhost:8080/"
        },
        "id": "cs9ld_8Qckq2",
        "outputId": "8c36e738-9946-4170-d4ac-648abd905b5a"
      },
      "execution_count": null,
      "outputs": [
        {
          "output_type": "execute_result",
          "data": {
            "text/plain": [
              "Reprodução de vídeo    1\n",
              "Name: F6, dtype: int64"
            ]
          },
          "metadata": {},
          "execution_count": 60
        }
      ]
    },
    {
      "cell_type": "code",
      "source": [
        "artefato1 = classificacao['A1'].value_counts()\n",
        "artefato1"
      ],
      "metadata": {
        "colab": {
          "base_uri": "https://localhost:8080/"
        },
        "id": "gJcHh_AkktC5",
        "outputId": "ec699fe0-eb42-4a09-df9c-5627a1c55252"
      },
      "execution_count": null,
      "outputs": [
        {
          "output_type": "execute_result",
          "data": {
            "text/plain": [
              "Celular          1085\n",
              "Smart TV           52\n",
              "-                  14\n",
              "Tablet             12\n",
              "Chromecast         10\n",
              "MacBook             5\n",
              "Fire TV Stick       2\n",
              "Apple TV            2\n",
              "Roku                1\n",
              "Notebook            1\n",
              "Magic Keybord       1\n",
              "PlayStation 4       1\n",
              "Name: A1, dtype: int64"
            ]
          },
          "metadata": {},
          "execution_count": 61
        }
      ]
    },
    {
      "cell_type": "code",
      "source": [
        "artefato2 = classificacao['A2'].value_counts()\n",
        "artefato2"
      ],
      "metadata": {
        "colab": {
          "base_uri": "https://localhost:8080/"
        },
        "id": "oORPV8ZNl2TZ",
        "outputId": "1fbb488b-0203-4732-fc4b-5245329a6269"
      },
      "execution_count": null,
      "outputs": [
        {
          "output_type": "execute_result",
          "data": {
            "text/plain": [
              "Smart TV         57\n",
              "Chromecast       49\n",
              "Celular          19\n",
              "Tablet            8\n",
              "Apple TV          3\n",
              "Computador        2\n",
              "Notebook          1\n",
              "Fire TV Stick     1\n",
              "Xbox              1\n",
              "Name: A2, dtype: int64"
            ]
          },
          "metadata": {},
          "execution_count": 62
        }
      ]
    },
    {
      "cell_type": "code",
      "source": [
        "artefato3 = classificacao['A3'].value_counts()\n",
        "artefato3"
      ],
      "metadata": {
        "colab": {
          "base_uri": "https://localhost:8080/"
        },
        "id": "sSJkpjSVl4Jw",
        "outputId": "b750129b-9094-47b1-c16d-c6ab5cc08659"
      },
      "execution_count": null,
      "outputs": [
        {
          "output_type": "execute_result",
          "data": {
            "text/plain": [
              "Celular       4\n",
              "Chromecast    2\n",
              "Smart TV      1\n",
              "Video game    1\n",
              "Computador    1\n",
              "Name: A3, dtype: int64"
            ]
          },
          "metadata": {},
          "execution_count": 63
        }
      ]
    },
    {
      "cell_type": "code",
      "source": [
        "artefato4 = classificacao['A4'].value_counts()\n",
        "artefato4"
      ],
      "metadata": {
        "colab": {
          "base_uri": "https://localhost:8080/"
        },
        "id": "a7wZq6M4ctYf",
        "outputId": "3550fcf1-01af-4ae8-a0d3-47c3337e7d43"
      },
      "execution_count": null,
      "outputs": [
        {
          "output_type": "execute_result",
          "data": {
            "text/plain": [
              "Alexa            1\n",
              "Fire TV Stick    1\n",
              "Name: A4, dtype: int64"
            ]
          },
          "metadata": {},
          "execution_count": 64
        }
      ]
    },
    {
      "cell_type": "code",
      "source": [
        "sentimento = classificacao['Sentimento'].value_counts()\n",
        "sentimento"
      ],
      "metadata": {
        "colab": {
          "base_uri": "https://localhost:8080/"
        },
        "id": "hINKTm6imNC0",
        "outputId": "89a93b20-684f-4cb9-afd1-445f381cb9d9"
      },
      "execution_count": null,
      "outputs": [
        {
          "output_type": "execute_result",
          "data": {
            "text/plain": [
              "Negativo    878\n",
              "Positivo    222\n",
              "Neutro       72\n",
              "-            14\n",
              "Name: Sentimento, dtype: int64"
            ]
          },
          "metadata": {},
          "execution_count": 65
        }
      ]
    },
    {
      "cell_type": "code",
      "source": [
        "usabilidade1 = classificacao['CQUU1'].value_counts()\n",
        "usabilidade1"
      ],
      "metadata": {
        "colab": {
          "base_uri": "https://localhost:8080/"
        },
        "id": "oLGhl_EEmjGY",
        "outputId": "284cbb5b-a1bb-442f-c470-0a823b4e1204"
      },
      "execution_count": null,
      "outputs": [
        {
          "output_type": "execute_result",
          "data": {
            "text/plain": [
              "Eficácia          669\n",
              "Eficiência        337\n",
              "Utilidade         162\n",
              "-                  14\n",
              "Segurança           1\n",
              "Aprendizado         1\n",
              "Memorabilidade      1\n",
              "Name: CQUU1, dtype: int64"
            ]
          },
          "metadata": {},
          "execution_count": 66
        }
      ]
    },
    {
      "cell_type": "code",
      "source": [
        "usabilidade2 = classificacao['CQUU2'].value_counts()\n",
        "usabilidade2"
      ],
      "metadata": {
        "colab": {
          "base_uri": "https://localhost:8080/"
        },
        "id": "N5TxMOpnm0KX",
        "outputId": "b04a7be1-9625-43cd-a331-5b14a156dee7"
      },
      "execution_count": null,
      "outputs": [
        {
          "output_type": "execute_result",
          "data": {
            "text/plain": [
              "Utilidade      194\n",
              "Eficácia        92\n",
              "Eficiência      36\n",
              "Aprendizado      4\n",
              "Name: CQUU2, dtype: int64"
            ]
          },
          "metadata": {},
          "execution_count": 67
        }
      ]
    },
    {
      "cell_type": "code",
      "source": [
        "usabilidade3 = classificacao['CQUU3'].value_counts()\n",
        "usabilidade3"
      ],
      "metadata": {
        "colab": {
          "base_uri": "https://localhost:8080/"
        },
        "id": "vELjPjMpm7ZY",
        "outputId": "4deb35ed-3370-4641-8ede-9fa432b0518b"
      },
      "execution_count": null,
      "outputs": [
        {
          "output_type": "execute_result",
          "data": {
            "text/plain": [
              "Utilidade     35\n",
              "Eficácia      30\n",
              "Eficiência    13\n",
              "Name: CQUU3, dtype: int64"
            ]
          },
          "metadata": {},
          "execution_count": 68
        }
      ]
    },
    {
      "cell_type": "code",
      "source": [
        "ux = classificacao['CQUUX1'].value_counts()\n",
        "ux"
      ],
      "metadata": {
        "colab": {
          "base_uri": "https://localhost:8080/"
        },
        "id": "dC-py00fm_PP",
        "outputId": "934ef329-17ca-401e-db77-44ff2ee34c56"
      },
      "execution_count": null,
      "outputs": [
        {
          "output_type": "execute_result",
          "data": {
            "text/plain": [
              "Frustração    919\n",
              "Satisfação    220\n",
              "Motivação      27\n",
              "-              14\n",
              "Estética        5\n",
              "Confiança       1\n",
              "Name: CQUUX1, dtype: int64"
            ]
          },
          "metadata": {},
          "execution_count": 69
        }
      ]
    },
    {
      "cell_type": "code",
      "source": [
        "ux1 = classificacao['CQUUX2'].value_counts()\n",
        "ux1"
      ],
      "metadata": {
        "colab": {
          "base_uri": "https://localhost:8080/"
        },
        "id": "Aq9MosjQc-s8",
        "outputId": "b20c1062-b4ab-4ef4-a108-875f23cc9c43"
      },
      "execution_count": null,
      "outputs": [
        {
          "output_type": "execute_result",
          "data": {
            "text/plain": [
              "Estética      2\n",
              "Frustração    2\n",
              "Satisfação    1\n",
              "Motivação     1\n",
              "Name: CQUUX2, dtype: int64"
            ]
          },
          "metadata": {},
          "execution_count": 70
        }
      ]
    },
    {
      "cell_type": "markdown",
      "source": [
        "# **Contagem das categorias**\n",
        "\n",
        "\n"
      ],
      "metadata": {
        "id": "BoPIgDECFTro"
      }
    },
    {
      "cell_type": "markdown",
      "source": [
        "### Tipo"
      ],
      "metadata": {
        "id": "bmFOuUeWiSiH"
      }
    },
    {
      "cell_type": "code",
      "source": [
        "tipo = classificacao['Tipo']\n",
        "tipo.value_counts()"
      ],
      "metadata": {
        "colab": {
          "base_uri": "https://localhost:8080/"
        },
        "id": "ljtBYbZliQOb",
        "outputId": "b17b9226-8583-4df9-8e5a-bb5137bcd907"
      },
      "execution_count": null,
      "outputs": [
        {
          "output_type": "execute_result",
          "data": {
            "text/plain": [
              "Crítica       908\n",
              "Elogio        218\n",
              "Sugestão       29\n",
              "-              14\n",
              "Comparação     10\n",
              "Dúvida          6\n",
              "Ajuda           1\n",
              "Name: Tipo, dtype: int64"
            ]
          },
          "metadata": {},
          "execution_count": 71
        }
      ]
    },
    {
      "cell_type": "markdown",
      "source": [
        "### Funcionalidades"
      ],
      "metadata": {
        "id": "1DUTwIFGIq5A"
      }
    },
    {
      "cell_type": "code",
      "source": [
        "funcionalidade1 = classificacao['F1']\n",
        "funcionalidade2 = classificacao['F2']\n",
        "funcionalidade3 = classificacao['F3']\n",
        "funcionalidade4 = classificacao['F4']\n",
        "funcionalidade5 = classificacao['F5']\n",
        "funcionalidade6 = classificacao['F6']"
      ],
      "metadata": {
        "id": "DX_ZwdScI0OQ"
      },
      "execution_count": null,
      "outputs": []
    },
    {
      "cell_type": "code",
      "source": [
        "f1 = pd.DataFrame(funcionalidade1)\n",
        "f1.rename(columns={'F1': 'Funcionalidades'}, inplace = True)\n",
        "f2 = pd.DataFrame(funcionalidade2)\n",
        "f2.rename(columns={'F2': 'Funcionalidades'}, inplace = True)\n",
        "f3 = pd.DataFrame(funcionalidade3)\n",
        "f3.rename(columns={'F3': 'Funcionalidades'}, inplace = True)\n",
        "f4 = pd.DataFrame(funcionalidade4)\n",
        "f4.rename(columns={'F4': 'Funcionalidades'}, inplace = True)\n",
        "f5 = pd.DataFrame(funcionalidade5)\n",
        "f5.rename(columns={'F5': 'Funcionalidades'}, inplace = True)\n",
        "f6 = pd.DataFrame(funcionalidade6)\n",
        "f6.rename(columns={'F6': 'Funcionalidades'}, inplace = True)"
      ],
      "metadata": {
        "id": "HES39XdmI8IU"
      },
      "execution_count": null,
      "outputs": []
    },
    {
      "cell_type": "code",
      "source": [
        "tabelaFuncionalidade = pd.concat([f1, f2, f3, f4, f5, f6])"
      ],
      "metadata": {
        "id": "IyxCK3RwJZ90"
      },
      "execution_count": null,
      "outputs": []
    },
    {
      "cell_type": "code",
      "source": [
        "tabelaFuncionalidade.value_counts()"
      ],
      "metadata": {
        "colab": {
          "base_uri": "https://localhost:8080/"
        },
        "id": "6lmX-7wWJhqa",
        "outputId": "98a0eb48-bf12-4552-fc5a-4ffc5609279a"
      },
      "execution_count": null,
      "outputs": [
        {
          "output_type": "execute_result",
          "data": {
            "text/plain": [
              "Funcionalidades                \n",
              "Desempenho                         390\n",
              "Catálogo                           187\n",
              "Sistema em geral                   161\n",
              "Reprodução de vídeo                134\n",
              "Ajuste de legenda                  133\n",
              "Rede                               110\n",
              "Espelhar                            97\n",
              "Idioma de reprodução                69\n",
              "Reprodução de vídeo baixado         54\n",
              "Atualização                         52\n",
              "Login                               50\n",
              "Download de conteúdo                40\n",
              "Assinatura                          36\n",
              "Buscar                              35\n",
              "Interface                           19\n",
              "Suporte                             17\n",
              "Lista de conteúdo assistido         15\n",
              "Logout                              14\n",
              "-                                   14\n",
              "Incompatibilidade                    9\n",
              "Reprodução automática                7\n",
              "Recuperar senha                      6\n",
              "Perfil                               5\n",
              "Idioma do Aplicativo                 5\n",
              "Reprodução de vídeo ao vivo          5\n",
              "Menu Principal                       4\n",
              "Configuração                         4\n",
              "Acelerar Reprodução de vídeo         4\n",
              "Recuperar conta                      3\n",
              "Qualidade de reprodução              2\n",
              "Disponibilidade                      2\n",
              "Picture-in-picture                   2\n",
              "Lista de episódios                   2\n",
              "Deletar episódios baixados           2\n",
              "Refinamento do Layout                1\n",
              "Página de Downloads                  1\n",
              "Seleção de séries                    1\n",
              "Senhas para perfil                   1\n",
              "\"Ainda está assistindo?\"             1\n",
              "Instalação                           1\n",
              "Orientação na vertical               1\n",
              "Organização em grade                 1\n",
              "Navegação                            1\n",
              "Download do App                      1\n",
              "Dispositivos conectados              1\n",
              "Desinstalar o App                    1\n",
              "Desativar reprodução autómatica      1\n",
              "Correção de bugs                     1\n",
              "Compartilhar indicação               1\n",
              "Brilho                               1\n",
              "Botões \"Rewind\" e \"Fast Foward\"      1\n",
              "Anúncio                              1\n",
              "Aba lançamentos                      1\n",
              "Trailers                             1\n",
              "dtype: int64"
            ]
          },
          "metadata": {},
          "execution_count": 75
        }
      ]
    },
    {
      "cell_type": "markdown",
      "source": [
        "### Artefato"
      ],
      "metadata": {
        "id": "-h8mQEuTHjrs"
      }
    },
    {
      "cell_type": "code",
      "source": [
        "artefato1 = classificacao['A1']\n",
        "artefato2 = classificacao['A2']\n",
        "artefato3 = classificacao['A3']\n",
        "artefato4 = classificacao['A4']"
      ],
      "metadata": {
        "id": "-Q6-VWeRHm4w"
      },
      "execution_count": null,
      "outputs": []
    },
    {
      "cell_type": "code",
      "source": [
        "a1 = pd.DataFrame(artefato1)\n",
        "a1.rename(columns={'A1': 'Artefatos'}, inplace = True)\n",
        "a2 = pd.DataFrame(artefato2)\n",
        "a2.rename(columns={'A2': 'Artefatos'}, inplace = True)\n",
        "a3 = pd.DataFrame(artefato3)\n",
        "a3.rename(columns={'A3': 'Artefatos'}, inplace = True)\n",
        "a4 = pd.DataFrame(artefato4)\n",
        "a4.rename(columns={'A4': 'Artefatos'}, inplace = True)"
      ],
      "metadata": {
        "id": "iWoa-MT4H2ar"
      },
      "execution_count": null,
      "outputs": []
    },
    {
      "cell_type": "code",
      "source": [
        "tabelaArtefatos = pd.concat([a1, a2, a3, a4])"
      ],
      "metadata": {
        "id": "ZLVBlCcoIOK3"
      },
      "execution_count": null,
      "outputs": []
    },
    {
      "cell_type": "code",
      "source": [
        "tabelaArtefatos.value_counts()"
      ],
      "metadata": {
        "colab": {
          "base_uri": "https://localhost:8080/"
        },
        "id": "NoYsNp97ITkM",
        "outputId": "794874af-5140-443b-e185-061e0fb425b2"
      },
      "execution_count": null,
      "outputs": [
        {
          "output_type": "execute_result",
          "data": {
            "text/plain": [
              "Artefatos    \n",
              "Celular          1108\n",
              "Smart TV          110\n",
              "Chromecast         61\n",
              "Tablet             20\n",
              "-                  14\n",
              "Apple TV            5\n",
              "MacBook             5\n",
              "Fire TV Stick       4\n",
              "Computador          3\n",
              "Notebook            2\n",
              "Alexa               1\n",
              "Magic Keybord       1\n",
              "PlayStation 4       1\n",
              "Roku                1\n",
              "Video game          1\n",
              "Xbox                1\n",
              "dtype: int64"
            ]
          },
          "metadata": {},
          "execution_count": 79
        }
      ]
    },
    {
      "cell_type": "markdown",
      "source": [
        "### Sentimento"
      ],
      "metadata": {
        "id": "O0jgoJCJKGb4"
      }
    },
    {
      "cell_type": "code",
      "source": [
        "sentimento = classificacao['Sentimento'].value_counts()\n",
        "sentimento"
      ],
      "metadata": {
        "colab": {
          "base_uri": "https://localhost:8080/"
        },
        "id": "v-0xswG4KJLd",
        "outputId": "a7cf15e3-9c53-4585-84e4-abe08af407ec"
      },
      "execution_count": null,
      "outputs": [
        {
          "output_type": "execute_result",
          "data": {
            "text/plain": [
              "Negativo    878\n",
              "Positivo    222\n",
              "Neutro       72\n",
              "-            14\n",
              "Name: Sentimento, dtype: int64"
            ]
          },
          "metadata": {},
          "execution_count": 80
        }
      ]
    },
    {
      "cell_type": "markdown",
      "source": [
        "### Usabilidade"
      ],
      "metadata": {
        "id": "La04hMOOFyQf"
      }
    },
    {
      "cell_type": "code",
      "source": [
        "usabilidade1 = classificacao['CQUU1']\n",
        "usabilidade2 = classificacao['CQUU2']\n",
        "usabilidade3 = classificacao['CQUU3']"
      ],
      "metadata": {
        "id": "6fNz-YcgFi-t"
      },
      "execution_count": null,
      "outputs": []
    },
    {
      "cell_type": "code",
      "source": [
        "cquu1 = pd.DataFrame(usabilidade1)\n",
        "cquu1.rename(columns={'CQUU1': 'Critérios'}, inplace = True)\n",
        "cquu2 = pd.DataFrame(usabilidade2)\n",
        "cquu2.rename(columns={'CQUU2': 'Critérios'}, inplace = True)\n",
        "cquu3 = pd.DataFrame(usabilidade3)\n",
        "cquu3.rename(columns={'CQUU3': 'Critérios'}, inplace = True)"
      ],
      "metadata": {
        "id": "2gQitf8bFnRW"
      },
      "execution_count": null,
      "outputs": []
    },
    {
      "cell_type": "code",
      "source": [
        "tabelaUsabilidade = pd.concat([cquu1, cquu2, cquu3])"
      ],
      "metadata": {
        "id": "CamclJgxBvjI"
      },
      "execution_count": null,
      "outputs": []
    },
    {
      "cell_type": "code",
      "source": [
        "tabelaUsabilidade.value_counts()"
      ],
      "metadata": {
        "colab": {
          "base_uri": "https://localhost:8080/"
        },
        "id": "urhZrewBCYoa",
        "outputId": "91007dae-a9d1-4f4b-bf52-5274ec43010e"
      },
      "execution_count": null,
      "outputs": [
        {
          "output_type": "execute_result",
          "data": {
            "text/plain": [
              "Critérios     \n",
              "Eficácia          791\n",
              "Utilidade         391\n",
              "Eficiência        386\n",
              "-                  14\n",
              "Aprendizado         5\n",
              "Memorabilidade      1\n",
              "Segurança           1\n",
              "dtype: int64"
            ]
          },
          "metadata": {},
          "execution_count": 84
        }
      ]
    },
    {
      "cell_type": "markdown",
      "source": [
        "### Expêriencia do Usuário"
      ],
      "metadata": {
        "id": "pR3j96grKOnP"
      }
    },
    {
      "cell_type": "code",
      "source": [
        "ux = classificacao['CQUUX1']\n",
        "ux1 = classificacao['CQUUX2']"
      ],
      "metadata": {
        "id": "ncYzKJNveD_6"
      },
      "execution_count": null,
      "outputs": []
    },
    {
      "cell_type": "code",
      "source": [
        "cquux1 = pd.DataFrame(ux)\n",
        "cquux1.rename(columns={'CQUUX1': 'Critérios'}, inplace = True)\n",
        "cquux2 = pd.DataFrame(ux1)\n",
        "cquux2.rename(columns={'CQUUX2': 'Critérios'}, inplace = True)"
      ],
      "metadata": {
        "id": "6zHJRs0seMcE"
      },
      "execution_count": null,
      "outputs": []
    },
    {
      "cell_type": "code",
      "source": [
        "tabelaux = pd.concat([cquux1, cquux2])"
      ],
      "metadata": {
        "id": "LyTgFYuXebjT"
      },
      "execution_count": null,
      "outputs": []
    },
    {
      "cell_type": "code",
      "source": [
        "tabelaux.value_counts()"
      ],
      "metadata": {
        "colab": {
          "base_uri": "https://localhost:8080/"
        },
        "id": "r913PC1_KShs",
        "outputId": "d92be8f8-0a5d-469d-c86c-c367f0d49608"
      },
      "execution_count": null,
      "outputs": [
        {
          "output_type": "execute_result",
          "data": {
            "text/plain": [
              "Critérios \n",
              "Frustração    921\n",
              "Satisfação    221\n",
              "Motivação      28\n",
              "-              14\n",
              "Estética        7\n",
              "Confiança       1\n",
              "dtype: int64"
            ]
          },
          "metadata": {},
          "execution_count": 88
        }
      ]
    },
    {
      "cell_type": "markdown",
      "source": [
        "# **Grafícos & Tabelas**"
      ],
      "metadata": {
        "id": "_pgOB92eKsc5"
      }
    },
    {
      "cell_type": "markdown",
      "source": [
        "### Funcionalidade"
      ],
      "metadata": {
        "id": "Tmf_qMf-M3WB"
      }
    },
    {
      "cell_type": "code",
      "source": [
        "\n",
        "dados = {\n",
        "    'Funcionalidade': [\n",
        "        'Desempenho', 'Rede', 'Sistema em geral', 'Reprodução de vídeo',\n",
        "        'Login', 'Espelhar', 'Logout', 'Assinatura', 'Catálogo',\n",
        "        'Download de conteúdo', 'Reprodução de vídeo baixado', 'Suporte',\n",
        "        'Interface', 'Recuperar senha', 'Buscar', 'Disponibilidade',\n",
        "        'Perfil', 'Incompatibilidade', 'Lista de episódios', 'Instalação',\n",
        "        'Armazenamento', 'Idioma do aplicativo', 'Ajuste de volume',\n",
        "        'Seleção de séries', 'Censura', 'Reprodução de vídeo ao vivo',\n",
        "        'Censura de conteúdo no perfil adulto', 'Configurações', 'Conta',\n",
        "        'Recuperar conta', 'Página de Downloads', 'Privacidade dos perfis',\n",
        "        'Pop-ups de anúncio', 'Perfil infantil', 'Criar conta',\n",
        "        'Menu Principal', 'Deletar episódios baixados', 'Download do App',\n",
        "        'Lista de filmes assistidos', 'Excesso de atualização',\n",
        "        'Falta de opção favoritar', 'Acessibilidade'\n",
        "    ],\n",
        "    'Quantidade': [\n",
        "        348, 202, 198, 161, 77, 50, 29, 24, 19, 19, 13, 9, 8, 6, 5, 3, 2, 2, 2,\n",
        "        2, 2, 2, 1, 1, 1, 1, 1, 1, 1, 1, 1, 1, 1, 1, 1, 1, 1, 1, 1, 1, 1, 1\n",
        "    ]\n",
        "}\n",
        "\n",
        "funcionalidades = pd.DataFrame(dados)\n",
        "funcionalidades = funcionalidades.set_index('Funcionalidade')\n",
        "funcionalidades"
      ],
      "metadata": {
        "colab": {
          "base_uri": "https://localhost:8080/",
          "height": 1000
        },
        "id": "fSCNxHt1K6x4",
        "outputId": "2ea8ab58-1f70-420f-ed1f-f7c818477073"
      },
      "execution_count": null,
      "outputs": [
        {
          "output_type": "execute_result",
          "data": {
            "text/plain": [
              "                                      Quantidade\n",
              "Funcionalidade                                  \n",
              "Desempenho                                   348\n",
              "Rede                                         202\n",
              "Sistema em geral                             198\n",
              "Reprodução de vídeo                          161\n",
              "Login                                         77\n",
              "Espelhar                                      50\n",
              "Logout                                        29\n",
              "Assinatura                                    24\n",
              "Catálogo                                      19\n",
              "Download de conteúdo                          19\n",
              "Reprodução de vídeo baixado                   13\n",
              "Suporte                                        9\n",
              "Interface                                      8\n",
              "Recuperar senha                                6\n",
              "Buscar                                         5\n",
              "Disponibilidade                                3\n",
              "Perfil                                         2\n",
              "Incompatibilidade                              2\n",
              "Lista de episódios                             2\n",
              "Instalação                                     2\n",
              "Armazenamento                                  2\n",
              "Idioma do aplicativo                           2\n",
              "Ajuste de volume                               1\n",
              "Seleção de séries                              1\n",
              "Censura                                        1\n",
              "Reprodução de vídeo ao vivo                    1\n",
              "Censura de conteúdo no perfil adulto           1\n",
              "Configurações                                  1\n",
              "Conta                                          1\n",
              "Recuperar conta                                1\n",
              "Página de Downloads                            1\n",
              "Privacidade dos perfis                         1\n",
              "Pop-ups de anúncio                             1\n",
              "Perfil infantil                                1\n",
              "Criar conta                                    1\n",
              "Menu Principal                                 1\n",
              "Deletar episódios baixados                     1\n",
              "Download do App                                1\n",
              "Lista de filmes assistidos                     1\n",
              "Excesso de atualização                         1\n",
              "Falta de opção favoritar                       1\n",
              "Acessibilidade                                 1"
            ],
            "text/html": [
              "\n",
              "  <div id=\"df-79d8c958-c4ac-4d79-8429-22934a35fb28\" class=\"colab-df-container\">\n",
              "    <div>\n",
              "<style scoped>\n",
              "    .dataframe tbody tr th:only-of-type {\n",
              "        vertical-align: middle;\n",
              "    }\n",
              "\n",
              "    .dataframe tbody tr th {\n",
              "        vertical-align: top;\n",
              "    }\n",
              "\n",
              "    .dataframe thead th {\n",
              "        text-align: right;\n",
              "    }\n",
              "</style>\n",
              "<table border=\"1\" class=\"dataframe\">\n",
              "  <thead>\n",
              "    <tr style=\"text-align: right;\">\n",
              "      <th></th>\n",
              "      <th>Quantidade</th>\n",
              "    </tr>\n",
              "    <tr>\n",
              "      <th>Funcionalidade</th>\n",
              "      <th></th>\n",
              "    </tr>\n",
              "  </thead>\n",
              "  <tbody>\n",
              "    <tr>\n",
              "      <th>Desempenho</th>\n",
              "      <td>348</td>\n",
              "    </tr>\n",
              "    <tr>\n",
              "      <th>Rede</th>\n",
              "      <td>202</td>\n",
              "    </tr>\n",
              "    <tr>\n",
              "      <th>Sistema em geral</th>\n",
              "      <td>198</td>\n",
              "    </tr>\n",
              "    <tr>\n",
              "      <th>Reprodução de vídeo</th>\n",
              "      <td>161</td>\n",
              "    </tr>\n",
              "    <tr>\n",
              "      <th>Login</th>\n",
              "      <td>77</td>\n",
              "    </tr>\n",
              "    <tr>\n",
              "      <th>Espelhar</th>\n",
              "      <td>50</td>\n",
              "    </tr>\n",
              "    <tr>\n",
              "      <th>Logout</th>\n",
              "      <td>29</td>\n",
              "    </tr>\n",
              "    <tr>\n",
              "      <th>Assinatura</th>\n",
              "      <td>24</td>\n",
              "    </tr>\n",
              "    <tr>\n",
              "      <th>Catálogo</th>\n",
              "      <td>19</td>\n",
              "    </tr>\n",
              "    <tr>\n",
              "      <th>Download de conteúdo</th>\n",
              "      <td>19</td>\n",
              "    </tr>\n",
              "    <tr>\n",
              "      <th>Reprodução de vídeo baixado</th>\n",
              "      <td>13</td>\n",
              "    </tr>\n",
              "    <tr>\n",
              "      <th>Suporte</th>\n",
              "      <td>9</td>\n",
              "    </tr>\n",
              "    <tr>\n",
              "      <th>Interface</th>\n",
              "      <td>8</td>\n",
              "    </tr>\n",
              "    <tr>\n",
              "      <th>Recuperar senha</th>\n",
              "      <td>6</td>\n",
              "    </tr>\n",
              "    <tr>\n",
              "      <th>Buscar</th>\n",
              "      <td>5</td>\n",
              "    </tr>\n",
              "    <tr>\n",
              "      <th>Disponibilidade</th>\n",
              "      <td>3</td>\n",
              "    </tr>\n",
              "    <tr>\n",
              "      <th>Perfil</th>\n",
              "      <td>2</td>\n",
              "    </tr>\n",
              "    <tr>\n",
              "      <th>Incompatibilidade</th>\n",
              "      <td>2</td>\n",
              "    </tr>\n",
              "    <tr>\n",
              "      <th>Lista de episódios</th>\n",
              "      <td>2</td>\n",
              "    </tr>\n",
              "    <tr>\n",
              "      <th>Instalação</th>\n",
              "      <td>2</td>\n",
              "    </tr>\n",
              "    <tr>\n",
              "      <th>Armazenamento</th>\n",
              "      <td>2</td>\n",
              "    </tr>\n",
              "    <tr>\n",
              "      <th>Idioma do aplicativo</th>\n",
              "      <td>2</td>\n",
              "    </tr>\n",
              "    <tr>\n",
              "      <th>Ajuste de volume</th>\n",
              "      <td>1</td>\n",
              "    </tr>\n",
              "    <tr>\n",
              "      <th>Seleção de séries</th>\n",
              "      <td>1</td>\n",
              "    </tr>\n",
              "    <tr>\n",
              "      <th>Censura</th>\n",
              "      <td>1</td>\n",
              "    </tr>\n",
              "    <tr>\n",
              "      <th>Reprodução de vídeo ao vivo</th>\n",
              "      <td>1</td>\n",
              "    </tr>\n",
              "    <tr>\n",
              "      <th>Censura de conteúdo no perfil adulto</th>\n",
              "      <td>1</td>\n",
              "    </tr>\n",
              "    <tr>\n",
              "      <th>Configurações</th>\n",
              "      <td>1</td>\n",
              "    </tr>\n",
              "    <tr>\n",
              "      <th>Conta</th>\n",
              "      <td>1</td>\n",
              "    </tr>\n",
              "    <tr>\n",
              "      <th>Recuperar conta</th>\n",
              "      <td>1</td>\n",
              "    </tr>\n",
              "    <tr>\n",
              "      <th>Página de Downloads</th>\n",
              "      <td>1</td>\n",
              "    </tr>\n",
              "    <tr>\n",
              "      <th>Privacidade dos perfis</th>\n",
              "      <td>1</td>\n",
              "    </tr>\n",
              "    <tr>\n",
              "      <th>Pop-ups de anúncio</th>\n",
              "      <td>1</td>\n",
              "    </tr>\n",
              "    <tr>\n",
              "      <th>Perfil infantil</th>\n",
              "      <td>1</td>\n",
              "    </tr>\n",
              "    <tr>\n",
              "      <th>Criar conta</th>\n",
              "      <td>1</td>\n",
              "    </tr>\n",
              "    <tr>\n",
              "      <th>Menu Principal</th>\n",
              "      <td>1</td>\n",
              "    </tr>\n",
              "    <tr>\n",
              "      <th>Deletar episódios baixados</th>\n",
              "      <td>1</td>\n",
              "    </tr>\n",
              "    <tr>\n",
              "      <th>Download do App</th>\n",
              "      <td>1</td>\n",
              "    </tr>\n",
              "    <tr>\n",
              "      <th>Lista de filmes assistidos</th>\n",
              "      <td>1</td>\n",
              "    </tr>\n",
              "    <tr>\n",
              "      <th>Excesso de atualização</th>\n",
              "      <td>1</td>\n",
              "    </tr>\n",
              "    <tr>\n",
              "      <th>Falta de opção favoritar</th>\n",
              "      <td>1</td>\n",
              "    </tr>\n",
              "    <tr>\n",
              "      <th>Acessibilidade</th>\n",
              "      <td>1</td>\n",
              "    </tr>\n",
              "  </tbody>\n",
              "</table>\n",
              "</div>\n",
              "    <div class=\"colab-df-buttons\">\n",
              "\n",
              "  <div class=\"colab-df-container\">\n",
              "    <button class=\"colab-df-convert\" onclick=\"convertToInteractive('df-79d8c958-c4ac-4d79-8429-22934a35fb28')\"\n",
              "            title=\"Convert this dataframe to an interactive table.\"\n",
              "            style=\"display:none;\">\n",
              "\n",
              "  <svg xmlns=\"http://www.w3.org/2000/svg\" height=\"24px\" viewBox=\"0 -960 960 960\">\n",
              "    <path d=\"M120-120v-720h720v720H120Zm60-500h600v-160H180v160Zm220 220h160v-160H400v160Zm0 220h160v-160H400v160ZM180-400h160v-160H180v160Zm440 0h160v-160H620v160ZM180-180h160v-160H180v160Zm440 0h160v-160H620v160Z\"/>\n",
              "  </svg>\n",
              "    </button>\n",
              "\n",
              "  <style>\n",
              "    .colab-df-container {\n",
              "      display:flex;\n",
              "      gap: 12px;\n",
              "    }\n",
              "\n",
              "    .colab-df-convert {\n",
              "      background-color: #E8F0FE;\n",
              "      border: none;\n",
              "      border-radius: 50%;\n",
              "      cursor: pointer;\n",
              "      display: none;\n",
              "      fill: #1967D2;\n",
              "      height: 32px;\n",
              "      padding: 0 0 0 0;\n",
              "      width: 32px;\n",
              "    }\n",
              "\n",
              "    .colab-df-convert:hover {\n",
              "      background-color: #E2EBFA;\n",
              "      box-shadow: 0px 1px 2px rgba(60, 64, 67, 0.3), 0px 1px 3px 1px rgba(60, 64, 67, 0.15);\n",
              "      fill: #174EA6;\n",
              "    }\n",
              "\n",
              "    .colab-df-buttons div {\n",
              "      margin-bottom: 4px;\n",
              "    }\n",
              "\n",
              "    [theme=dark] .colab-df-convert {\n",
              "      background-color: #3B4455;\n",
              "      fill: #D2E3FC;\n",
              "    }\n",
              "\n",
              "    [theme=dark] .colab-df-convert:hover {\n",
              "      background-color: #434B5C;\n",
              "      box-shadow: 0px 1px 3px 1px rgba(0, 0, 0, 0.15);\n",
              "      filter: drop-shadow(0px 1px 2px rgba(0, 0, 0, 0.3));\n",
              "      fill: #FFFFFF;\n",
              "    }\n",
              "  </style>\n",
              "\n",
              "    <script>\n",
              "      const buttonEl =\n",
              "        document.querySelector('#df-79d8c958-c4ac-4d79-8429-22934a35fb28 button.colab-df-convert');\n",
              "      buttonEl.style.display =\n",
              "        google.colab.kernel.accessAllowed ? 'block' : 'none';\n",
              "\n",
              "      async function convertToInteractive(key) {\n",
              "        const element = document.querySelector('#df-79d8c958-c4ac-4d79-8429-22934a35fb28');\n",
              "        const dataTable =\n",
              "          await google.colab.kernel.invokeFunction('convertToInteractive',\n",
              "                                                    [key], {});\n",
              "        if (!dataTable) return;\n",
              "\n",
              "        const docLinkHtml = 'Like what you see? Visit the ' +\n",
              "          '<a target=\"_blank\" href=https://colab.research.google.com/notebooks/data_table.ipynb>data table notebook</a>'\n",
              "          + ' to learn more about interactive tables.';\n",
              "        element.innerHTML = '';\n",
              "        dataTable['output_type'] = 'display_data';\n",
              "        await google.colab.output.renderOutput(dataTable, element);\n",
              "        const docLink = document.createElement('div');\n",
              "        docLink.innerHTML = docLinkHtml;\n",
              "        element.appendChild(docLink);\n",
              "      }\n",
              "    </script>\n",
              "  </div>\n",
              "\n",
              "\n",
              "<div id=\"df-02284f8c-5bd6-4800-ae4c-452a8cba241d\">\n",
              "  <button class=\"colab-df-quickchart\" onclick=\"quickchart('df-02284f8c-5bd6-4800-ae4c-452a8cba241d')\"\n",
              "            title=\"Suggest charts.\"\n",
              "            style=\"display:none;\">\n",
              "\n",
              "<svg xmlns=\"http://www.w3.org/2000/svg\" height=\"24px\"viewBox=\"0 0 24 24\"\n",
              "     width=\"24px\">\n",
              "    <g>\n",
              "        <path d=\"M19 3H5c-1.1 0-2 .9-2 2v14c0 1.1.9 2 2 2h14c1.1 0 2-.9 2-2V5c0-1.1-.9-2-2-2zM9 17H7v-7h2v7zm4 0h-2V7h2v10zm4 0h-2v-4h2v4z\"/>\n",
              "    </g>\n",
              "</svg>\n",
              "  </button>\n",
              "\n",
              "<style>\n",
              "  .colab-df-quickchart {\n",
              "      --bg-color: #E8F0FE;\n",
              "      --fill-color: #1967D2;\n",
              "      --hover-bg-color: #E2EBFA;\n",
              "      --hover-fill-color: #174EA6;\n",
              "      --disabled-fill-color: #AAA;\n",
              "      --disabled-bg-color: #DDD;\n",
              "  }\n",
              "\n",
              "  [theme=dark] .colab-df-quickchart {\n",
              "      --bg-color: #3B4455;\n",
              "      --fill-color: #D2E3FC;\n",
              "      --hover-bg-color: #434B5C;\n",
              "      --hover-fill-color: #FFFFFF;\n",
              "      --disabled-bg-color: #3B4455;\n",
              "      --disabled-fill-color: #666;\n",
              "  }\n",
              "\n",
              "  .colab-df-quickchart {\n",
              "    background-color: var(--bg-color);\n",
              "    border: none;\n",
              "    border-radius: 50%;\n",
              "    cursor: pointer;\n",
              "    display: none;\n",
              "    fill: var(--fill-color);\n",
              "    height: 32px;\n",
              "    padding: 0;\n",
              "    width: 32px;\n",
              "  }\n",
              "\n",
              "  .colab-df-quickchart:hover {\n",
              "    background-color: var(--hover-bg-color);\n",
              "    box-shadow: 0 1px 2px rgba(60, 64, 67, 0.3), 0 1px 3px 1px rgba(60, 64, 67, 0.15);\n",
              "    fill: var(--button-hover-fill-color);\n",
              "  }\n",
              "\n",
              "  .colab-df-quickchart-complete:disabled,\n",
              "  .colab-df-quickchart-complete:disabled:hover {\n",
              "    background-color: var(--disabled-bg-color);\n",
              "    fill: var(--disabled-fill-color);\n",
              "    box-shadow: none;\n",
              "  }\n",
              "\n",
              "  .colab-df-spinner {\n",
              "    border: 2px solid var(--fill-color);\n",
              "    border-color: transparent;\n",
              "    border-bottom-color: var(--fill-color);\n",
              "    animation:\n",
              "      spin 1s steps(1) infinite;\n",
              "  }\n",
              "\n",
              "  @keyframes spin {\n",
              "    0% {\n",
              "      border-color: transparent;\n",
              "      border-bottom-color: var(--fill-color);\n",
              "      border-left-color: var(--fill-color);\n",
              "    }\n",
              "    20% {\n",
              "      border-color: transparent;\n",
              "      border-left-color: var(--fill-color);\n",
              "      border-top-color: var(--fill-color);\n",
              "    }\n",
              "    30% {\n",
              "      border-color: transparent;\n",
              "      border-left-color: var(--fill-color);\n",
              "      border-top-color: var(--fill-color);\n",
              "      border-right-color: var(--fill-color);\n",
              "    }\n",
              "    40% {\n",
              "      border-color: transparent;\n",
              "      border-right-color: var(--fill-color);\n",
              "      border-top-color: var(--fill-color);\n",
              "    }\n",
              "    60% {\n",
              "      border-color: transparent;\n",
              "      border-right-color: var(--fill-color);\n",
              "    }\n",
              "    80% {\n",
              "      border-color: transparent;\n",
              "      border-right-color: var(--fill-color);\n",
              "      border-bottom-color: var(--fill-color);\n",
              "    }\n",
              "    90% {\n",
              "      border-color: transparent;\n",
              "      border-bottom-color: var(--fill-color);\n",
              "    }\n",
              "  }\n",
              "</style>\n",
              "\n",
              "  <script>\n",
              "    async function quickchart(key) {\n",
              "      const quickchartButtonEl =\n",
              "        document.querySelector('#' + key + ' button');\n",
              "      quickchartButtonEl.disabled = true;  // To prevent multiple clicks.\n",
              "      quickchartButtonEl.classList.add('colab-df-spinner');\n",
              "      try {\n",
              "        const charts = await google.colab.kernel.invokeFunction(\n",
              "            'suggestCharts', [key], {});\n",
              "      } catch (error) {\n",
              "        console.error('Error during call to suggestCharts:', error);\n",
              "      }\n",
              "      quickchartButtonEl.classList.remove('colab-df-spinner');\n",
              "      quickchartButtonEl.classList.add('colab-df-quickchart-complete');\n",
              "    }\n",
              "    (() => {\n",
              "      let quickchartButtonEl =\n",
              "        document.querySelector('#df-02284f8c-5bd6-4800-ae4c-452a8cba241d button');\n",
              "      quickchartButtonEl.style.display =\n",
              "        google.colab.kernel.accessAllowed ? 'block' : 'none';\n",
              "    })();\n",
              "  </script>\n",
              "</div>\n",
              "    </div>\n",
              "  </div>\n"
            ]
          },
          "metadata": {},
          "execution_count": 89
        }
      ]
    },
    {
      "cell_type": "code",
      "source": [
        "import matplotlib.pyplot as plt\n",
        "import matplotlib.colors as mcolors"
      ],
      "metadata": {
        "id": "M-d7oEalOOHW"
      },
      "execution_count": null,
      "outputs": []
    },
    {
      "cell_type": "code",
      "source": [
        "dadosFuncionalidade = [\n",
        "        'Desempenho', 'Rede', 'Sistema em geral', 'Reprodução de vídeo',\n",
        "        'Login', 'Espelhar', 'Logout', 'Assinatura', 'Catálogo',\n",
        "        'Download de conteúdo', 'Reprodução de vídeo baixado', 'Suporte',\n",
        "        'Interface', 'Recuperar senha', 'Buscar', 'Disponibilidade',\n",
        "        'Perfil', 'Incompatibilidade', 'Lista de episódios', 'Instalação',\n",
        "        'Armazenamento', 'Idioma do aplicativo', 'Ajuste de volume',\n",
        "        'Seleção de séries', 'Censura', 'Reprodução de vídeo ao vivo',\n",
        "        'Censura de conteúdo no perfil adulto', 'Configurações', 'Conta',\n",
        "        'Recuperar conta', 'Página de Downloads', 'Privacidade dos perfis',\n",
        "        'Pop-ups de anúncio', 'Perfil infantil', 'Criar conta',\n",
        "        'Menu Principal', 'Deletar episódios baixados', 'Download do App',\n",
        "        'Lista de filmes assistidos', 'Excesso de atualização',\n",
        "        'Falta de opção favoritar', 'Acessibilidade'\n",
        "    ]\n",
        "quantidadeFuncionalidade = [\n",
        "        348, 202, 198, 161, 77, 50, 29, 24, 19, 19, 13, 9, 8, 6, 5, 3, 2, 2, 2,\n",
        "        2, 2, 2, 1, 1, 1, 1, 1, 1, 1, 1, 1, 1, 1, 1, 1, 1, 1, 1, 1, 1, 1, 1\n",
        "    ]"
      ],
      "metadata": {
        "id": "a9Hi3q-lQAV8"
      },
      "execution_count": null,
      "outputs": []
    },
    {
      "cell_type": "code",
      "source": [
        "fig, ax = plt.subplots(figsize=(12,9))\n",
        "funcionalidade = dadosFuncionalidade\n",
        "quantidade = quantidadeFuncionalidade\n",
        "\n",
        "ax.barh(funcionalidade, quantidade, color='#8A25E5')\n",
        "plt.xticks(rotation=90)\n",
        "\n",
        "#for i, valor in enumerate(quantidadeFuncionalidade):\n",
        "#    plt.text(i, valor + 1, str(valor), ha='center', va='bottom', fontsize=8)\n",
        "\n",
        "ax.set_xlabel('Número de críticas')\n",
        "ax.set_ylabel('Funcionalidades do aplicativo')\n",
        "#ax.set_title('Quantidade de funcionalidades criticadas')\n",
        "\n",
        "\n",
        "for i, valor in enumerate(quantidadeFuncionalidade):\n",
        "    plt.text(valor, i, str(valor), ha='left', va='center', fontsize=8)\n",
        "\n",
        "\n",
        "plt.show()"
      ],
      "metadata": {
        "colab": {
          "base_uri": "https://localhost:8080/",
          "height": 602
        },
        "id": "8iQ8lwQ3Nzd9",
        "outputId": "2811458f-8f1c-41e6-f664-677d006661c2"
      },
      "execution_count": null,
      "outputs": [
        {
          "output_type": "display_data",
          "data": {
            "text/plain": [
              "<Figure size 1200x900 with 1 Axes>"
            ],
            "image/png": "[encoded data removed]"
          },
          "metadata": {}
        }
      ]
    },
    {
      "cell_type": "markdown",
      "source": [
        "### Artefatos"
      ],
      "metadata": {
        "id": "sKm-pnvgs7Zd"
      }
    },
    {
      "cell_type": "code",
      "source": [
        "dados = {\n",
        "    'Artefato': [\n",
        "        'Celular', 'Smart TV', 'Chromecast', 'Computador',\n",
        "        'TV Box', 'Fire TV Stick', 'Tablet', 'Xbox',\n",
        "        'PlayStation 5', 'AndroidTV', 'MiBox', 'Notebook',\n",
        "        'Realme Stick TV', 'Roku', 'TV Box Vodafone'\n",
        "    ],\n",
        "    'Quantidade': [\n",
        "          825, 65, 29, 7, 6, 3, 3, 3, 2, 1, 1, 1, 1, 1, 1\n",
        "    ]\n",
        "}\n",
        "\n",
        "Artefatos = pd.DataFrame(dados)\n",
        "Artefatos = Artefatos.set_index('Artefato')\n",
        "Artefatos"
      ],
      "metadata": {
        "colab": {
          "base_uri": "https://localhost:8080/",
          "height": 551
        },
        "id": "JDPt31H1tguc",
        "outputId": "4e5e0622-bd6d-4422-87dc-977c980b0c57"
      },
      "execution_count": null,
      "outputs": [
        {
          "output_type": "execute_result",
          "data": {
            "text/plain": [
              "                 Quantidade\n",
              "Artefato                   \n",
              "Celular                 825\n",
              "Smart TV                 65\n",
              "Chromecast               29\n",
              "Computador                7\n",
              "TV Box                    6\n",
              "Fire TV Stick             3\n",
              "Tablet                    3\n",
              "Xbox                      3\n",
              "PlayStation 5             2\n",
              "AndroidTV                 1\n",
              "MiBox                     1\n",
              "Notebook                  1\n",
              "Realme Stick TV           1\n",
              "Roku                      1\n",
              "TV Box Vodafone           1"
            ],
            "text/html": [
              "\n",
              "  <div id=\"df-d5d8fff4-c19c-4a9f-b44b-f42d07702876\" class=\"colab-df-container\">\n",
              "    <div>\n",
              "<style scoped>\n",
              "    .dataframe tbody tr th:only-of-type {\n",
              "        vertical-align: middle;\n",
              "    }\n",
              "\n",
              "    .dataframe tbody tr th {\n",
              "        vertical-align: top;\n",
              "    }\n",
              "\n",
              "    .dataframe thead th {\n",
              "        text-align: right;\n",
              "    }\n",
              "</style>\n",
              "<table border=\"1\" class=\"dataframe\">\n",
              "  <thead>\n",
              "    <tr style=\"text-align: right;\">\n",
              "      <th></th>\n",
              "      <th>Quantidade</th>\n",
              "    </tr>\n",
              "    <tr>\n",
              "      <th>Artefato</th>\n",
              "      <th></th>\n",
              "    </tr>\n",
              "  </thead>\n",
              "  <tbody>\n",
              "    <tr>\n",
              "      <th>Celular</th>\n",
              "      <td>825</td>\n",
              "    </tr>\n",
              "    <tr>\n",
              "      <th>Smart TV</th>\n",
              "      <td>65</td>\n",
              "    </tr>\n",
              "    <tr>\n",
              "      <th>Chromecast</th>\n",
              "      <td>29</td>\n",
              "    </tr>\n",
              "    <tr>\n",
              "      <th>Computador</th>\n",
              "      <td>7</td>\n",
              "    </tr>\n",
              "    <tr>\n",
              "      <th>TV Box</th>\n",
              "      <td>6</td>\n",
              "    </tr>\n",
              "    <tr>\n",
              "      <th>Fire TV Stick</th>\n",
              "      <td>3</td>\n",
              "    </tr>\n",
              "    <tr>\n",
              "      <th>Tablet</th>\n",
              "      <td>3</td>\n",
              "    </tr>\n",
              "    <tr>\n",
              "      <th>Xbox</th>\n",
              "      <td>3</td>\n",
              "    </tr>\n",
              "    <tr>\n",
              "      <th>PlayStation 5</th>\n",
              "      <td>2</td>\n",
              "    </tr>\n",
              "    <tr>\n",
              "      <th>AndroidTV</th>\n",
              "      <td>1</td>\n",
              "    </tr>\n",
              "    <tr>\n",
              "      <th>MiBox</th>\n",
              "      <td>1</td>\n",
              "    </tr>\n",
              "    <tr>\n",
              "      <th>Notebook</th>\n",
              "      <td>1</td>\n",
              "    </tr>\n",
              "    <tr>\n",
              "      <th>Realme Stick TV</th>\n",
              "      <td>1</td>\n",
              "    </tr>\n",
              "    <tr>\n",
              "      <th>Roku</th>\n",
              "      <td>1</td>\n",
              "    </tr>\n",
              "    <tr>\n",
              "      <th>TV Box Vodafone</th>\n",
              "      <td>1</td>\n",
              "    </tr>\n",
              "  </tbody>\n",
              "</table>\n",
              "</div>\n",
              "    <div class=\"colab-df-buttons\">\n",
              "\n",
              "  <div class=\"colab-df-container\">\n",
              "    <button class=\"colab-df-convert\" onclick=\"convertToInteractive('df-d5d8fff4-c19c-4a9f-b44b-f42d07702876')\"\n",
              "            title=\"Convert this dataframe to an interactive table.\"\n",
              "            style=\"display:none;\">\n",
              "\n",
              "  <svg xmlns=\"http://www.w3.org/2000/svg\" height=\"24px\" viewBox=\"0 -960 960 960\">\n",
              "    <path d=\"M120-120v-720h720v720H120Zm60-500h600v-160H180v160Zm220 220h160v-160H400v160Zm0 220h160v-160H400v160ZM180-400h160v-160H180v160Zm440 0h160v-160H620v160ZM180-180h160v-160H180v160Zm440 0h160v-160H620v160Z\"/>\n",
              "  </svg>\n",
              "    </button>\n",
              "\n",
              "  <style>\n",
              "    .colab-df-container {\n",
              "      display:flex;\n",
              "      gap: 12px;\n",
              "    }\n",
              "\n",
              "    .colab-df-convert {\n",
              "      background-color: #E8F0FE;\n",
              "      border: none;\n",
              "      border-radius: 50%;\n",
              "      cursor: pointer;\n",
              "      display: none;\n",
              "      fill: #1967D2;\n",
              "      height: 32px;\n",
              "      padding: 0 0 0 0;\n",
              "      width: 32px;\n",
              "    }\n",
              "\n",
              "    .colab-df-convert:hover {\n",
              "      background-color: #E2EBFA;\n",
              "      box-shadow: 0px 1px 2px rgba(60, 64, 67, 0.3), 0px 1px 3px 1px rgba(60, 64, 67, 0.15);\n",
              "      fill: #174EA6;\n",
              "    }\n",
              "\n",
              "    .colab-df-buttons div {\n",
              "      margin-bottom: 4px;\n",
              "    }\n",
              "\n",
              "    [theme=dark] .colab-df-convert {\n",
              "      background-color: #3B4455;\n",
              "      fill: #D2E3FC;\n",
              "    }\n",
              "\n",
              "    [theme=dark] .colab-df-convert:hover {\n",
              "      background-color: #434B5C;\n",
              "      box-shadow: 0px 1px 3px 1px rgba(0, 0, 0, 0.15);\n",
              "      filter: drop-shadow(0px 1px 2px rgba(0, 0, 0, 0.3));\n",
              "      fill: #FFFFFF;\n",
              "    }\n",
              "  </style>\n",
              "\n",
              "    <script>\n",
              "      const buttonEl =\n",
              "        document.querySelector('#df-d5d8fff4-c19c-4a9f-b44b-f42d07702876 button.colab-df-convert');\n",
              "      buttonEl.style.display =\n",
              "        google.colab.kernel.accessAllowed ? 'block' : 'none';\n",
              "\n",
              "      async function convertToInteractive(key) {\n",
              "        const element = document.querySelector('#df-d5d8fff4-c19c-4a9f-b44b-f42d07702876');\n",
              "        const dataTable =\n",
              "          await google.colab.kernel.invokeFunction('convertToInteractive',\n",
              "                                                    [key], {});\n",
              "        if (!dataTable) return;\n",
              "\n",
              "        const docLinkHtml = 'Like what you see? Visit the ' +\n",
              "          '<a target=\"_blank\" href=https://colab.research.google.com/notebooks/data_table.ipynb>data table notebook</a>'\n",
              "          + ' to learn more about interactive tables.';\n",
              "        element.innerHTML = '';\n",
              "        dataTable['output_type'] = 'display_data';\n",
              "        await google.colab.output.renderOutput(dataTable, element);\n",
              "        const docLink = document.createElement('div');\n",
              "        docLink.innerHTML = docLinkHtml;\n",
              "        element.appendChild(docLink);\n",
              "      }\n",
              "    </script>\n",
              "  </div>\n",
              "\n",
              "\n",
              "<div id=\"df-c45c8d94-89f0-4dd5-a2d2-dd1e55a78eca\">\n",
              "  <button class=\"colab-df-quickchart\" onclick=\"quickchart('df-c45c8d94-89f0-4dd5-a2d2-dd1e55a78eca')\"\n",
              "            title=\"Suggest charts.\"\n",
              "            style=\"display:none;\">\n",
              "\n",
              "<svg xmlns=\"http://www.w3.org/2000/svg\" height=\"24px\"viewBox=\"0 0 24 24\"\n",
              "     width=\"24px\">\n",
              "    <g>\n",
              "        <path d=\"M19 3H5c-1.1 0-2 .9-2 2v14c0 1.1.9 2 2 2h14c1.1 0 2-.9 2-2V5c0-1.1-.9-2-2-2zM9 17H7v-7h2v7zm4 0h-2V7h2v10zm4 0h-2v-4h2v4z\"/>\n",
              "    </g>\n",
              "</svg>\n",
              "  </button>\n",
              "\n",
              "<style>\n",
              "  .colab-df-quickchart {\n",
              "      --bg-color: #E8F0FE;\n",
              "      --fill-color: #1967D2;\n",
              "      --hover-bg-color: #E2EBFA;\n",
              "      --hover-fill-color: #174EA6;\n",
              "      --disabled-fill-color: #AAA;\n",
              "      --disabled-bg-color: #DDD;\n",
              "  }\n",
              "\n",
              "  [theme=dark] .colab-df-quickchart {\n",
              "      --bg-color: #3B4455;\n",
              "      --fill-color: #D2E3FC;\n",
              "      --hover-bg-color: #434B5C;\n",
              "      --hover-fill-color: #FFFFFF;\n",
              "      --disabled-bg-color: #3B4455;\n",
              "      --disabled-fill-color: #666;\n",
              "  }\n",
              "\n",
              "  .colab-df-quickchart {\n",
              "    background-color: var(--bg-color);\n",
              "    border: none;\n",
              "    border-radius: 50%;\n",
              "    cursor: pointer;\n",
              "    display: none;\n",
              "    fill: var(--fill-color);\n",
              "    height: 32px;\n",
              "    padding: 0;\n",
              "    width: 32px;\n",
              "  }\n",
              "\n",
              "  .colab-df-quickchart:hover {\n",
              "    background-color: var(--hover-bg-color);\n",
              "    box-shadow: 0 1px 2px rgba(60, 64, 67, 0.3), 0 1px 3px 1px rgba(60, 64, 67, 0.15);\n",
              "    fill: var(--button-hover-fill-color);\n",
              "  }\n",
              "\n",
              "  .colab-df-quickchart-complete:disabled,\n",
              "  .colab-df-quickchart-complete:disabled:hover {\n",
              "    background-color: var(--disabled-bg-color);\n",
              "    fill: var(--disabled-fill-color);\n",
              "    box-shadow: none;\n",
              "  }\n",
              "\n",
              "  .colab-df-spinner {\n",
              "    border: 2px solid var(--fill-color);\n",
              "    border-color: transparent;\n",
              "    border-bottom-color: var(--fill-color);\n",
              "    animation:\n",
              "      spin 1s steps(1) infinite;\n",
              "  }\n",
              "\n",
              "  @keyframes spin {\n",
              "    0% {\n",
              "      border-color: transparent;\n",
              "      border-bottom-color: var(--fill-color);\n",
              "      border-left-color: var(--fill-color);\n",
              "    }\n",
              "    20% {\n",
              "      border-color: transparent;\n",
              "      border-left-color: var(--fill-color);\n",
              "      border-top-color: var(--fill-color);\n",
              "    }\n",
              "    30% {\n",
              "      border-color: transparent;\n",
              "      border-left-color: var(--fill-color);\n",
              "      border-top-color: var(--fill-color);\n",
              "      border-right-color: var(--fill-color);\n",
              "    }\n",
              "    40% {\n",
              "      border-color: transparent;\n",
              "      border-right-color: var(--fill-color);\n",
              "      border-top-color: var(--fill-color);\n",
              "    }\n",
              "    60% {\n",
              "      border-color: transparent;\n",
              "      border-right-color: var(--fill-color);\n",
              "    }\n",
              "    80% {\n",
              "      border-color: transparent;\n",
              "      border-right-color: var(--fill-color);\n",
              "      border-bottom-color: var(--fill-color);\n",
              "    }\n",
              "    90% {\n",
              "      border-color: transparent;\n",
              "      border-bottom-color: var(--fill-color);\n",
              "    }\n",
              "  }\n",
              "</style>\n",
              "\n",
              "  <script>\n",
              "    async function quickchart(key) {\n",
              "      const quickchartButtonEl =\n",
              "        document.querySelector('#' + key + ' button');\n",
              "      quickchartButtonEl.disabled = true;  // To prevent multiple clicks.\n",
              "      quickchartButtonEl.classList.add('colab-df-spinner');\n",
              "      try {\n",
              "        const charts = await google.colab.kernel.invokeFunction(\n",
              "            'suggestCharts', [key], {});\n",
              "      } catch (error) {\n",
              "        console.error('Error during call to suggestCharts:', error);\n",
              "      }\n",
              "      quickchartButtonEl.classList.remove('colab-df-spinner');\n",
              "      quickchartButtonEl.classList.add('colab-df-quickchart-complete');\n",
              "    }\n",
              "    (() => {\n",
              "      let quickchartButtonEl =\n",
              "        document.querySelector('#df-c45c8d94-89f0-4dd5-a2d2-dd1e55a78eca button');\n",
              "      quickchartButtonEl.style.display =\n",
              "        google.colab.kernel.accessAllowed ? 'block' : 'none';\n",
              "    })();\n",
              "  </script>\n",
              "</div>\n",
              "    </div>\n",
              "  </div>\n"
            ]
          },
          "metadata": {},
          "execution_count": 93
        }
      ]
    },
    {
      "cell_type": "code",
      "source": [
        "dispositivos = [\n",
        "        'Celular', 'Smart TV', 'Chromecast', 'Computador',\n",
        "        'TV Box', 'Fire TV Stick', 'Tablet', 'Xbox',\n",
        "        'PlayStation 5', 'Android TV', 'MiBox', 'Notebook',\n",
        "        'Realme Stick TV', 'Roku', 'TV Box Vodafone'\n",
        "    ]\n",
        "\n",
        "quantDispositivos = [\n",
        "        825, 65, 29, 7, 6, 3, 3, 3, 2, 1, 1, 1, 1, 1, 1\n",
        "    ]"
      ],
      "metadata": {
        "id": "Lj_IjXahu6G8"
      },
      "execution_count": null,
      "outputs": []
    },
    {
      "cell_type": "code",
      "source": [
        "fig, ax = plt.subplots(figsize=(8,6))\n",
        "\n",
        "dispositivo = dispositivos\n",
        "quatidade = quantDispositivos\n",
        "\n",
        "plt.xticks(rotation=80)\n",
        "\n",
        "for i, valor in enumerate(quatidade):\n",
        "    plt.text(i, valor + 1, str(valor), ha='center', va='bottom', fontsize=10)\n",
        "\n",
        "ax.bar(dispositivo, quatidade, color='#8A25E5')\n",
        "\n",
        "ax.set_ylabel('Quantidade')\n",
        "ax.set_title('Numero de dispoítivos encontrados nas PRUs do tipo Crítica')\n",
        "\n",
        "plt.show()"
      ],
      "metadata": {
        "colab": {
          "base_uri": "https://localhost:8080/",
          "height": 650
        },
        "id": "z0mMSDAFt0cm",
        "outputId": "b46c1003-f8e4-4dbb-e9a9-f2595659a3c1"
      },
      "execution_count": null,
      "outputs": [
        {
          "output_type": "display_data",
          "data": {
            "text/plain": [
              "<Figure size 800x600 with 1 Axes>"
            ],
            "image/png": "[encoded data removed]"
          },
          "metadata": {}
        }
      ]
    },
    {
      "cell_type": "markdown",
      "source": [
        "### Sentimento"
      ],
      "metadata": {
        "id": "tkfsgMmpyGgC"
      }
    },
    {
      "cell_type": "code",
      "source": [
        "labels = ['Negativo', 'Neutro']\n",
        "sizes = [842, 11]\n",
        "\n",
        "fig, ax = plt.subplots()\n",
        "wedges, texts, autotexts = ax.pie(sizes, labels=labels, colors=['#6D0DD1', '#417CD6'], autopct='')\n",
        "\n",
        "for i, val in enumerate(sizes):\n",
        "    autotexts[i].set_text(str(val))\n",
        "\n",
        "for autotext in autotexts:\n",
        "    autotext.set_color('white')\n",
        "\n",
        "plt.show()"
      ],
      "metadata": {
        "colab": {
          "base_uri": "https://localhost:8080/",
          "height": 406
        },
        "id": "-kvdZFqoyIlf",
        "outputId": "625a4367-34c0-4ada-895e-d36a7f4e0ea5"
      },
      "execution_count": null,
      "outputs": [
        {
          "output_type": "display_data",
          "data": {
            "text/plain": [
              "<Figure size 640x480 with 1 Axes>"
            ],
            "image/png": "[encoded data removed]"
          },
          "metadata": {}
        }
      ]
    },
    {
      "cell_type": "markdown",
      "source": [
        "### Usabilidade"
      ],
      "metadata": {
        "id": "0FHaQ5WX0y1T"
      }
    },
    {
      "cell_type": "code",
      "source": [
        "dados = {\n",
        "    'Dimensão': ['Eficácia', 'Eficiência', 'Utilidade', 'Aprendizado', 'Segurança'],\n",
        "    'Quantidade': [639, 359, 285, 5, 1]\n",
        "}\n",
        "\n",
        "\n",
        "Usabilidade = pd.DataFrame(dados)\n",
        "Usabilidade = Usabilidade.set_index('Dimensão')\n",
        "Usabilidade"
      ],
      "metadata": {
        "colab": {
          "base_uri": "https://localhost:8080/",
          "height": 238
        },
        "id": "1Jv--RjU0090",
        "outputId": "380a8e17-91b9-4d4a-c465-c47f888bfb7d"
      },
      "execution_count": null,
      "outputs": [
        {
          "output_type": "execute_result",
          "data": {
            "text/plain": [
              "             Quantidade\n",
              "Dimensão               \n",
              "Eficácia            639\n",
              "Eficiência          359\n",
              "Utilidade           285\n",
              "Aprendizado           5\n",
              "Segurança             1"
            ],
            "text/html": [
              "\n",
              "  <div id=\"df-10f30e32-1977-4425-b3b6-3a4f05179793\" class=\"colab-df-container\">\n",
              "    <div>\n",
              "<style scoped>\n",
              "    .dataframe tbody tr th:only-of-type {\n",
              "        vertical-align: middle;\n",
              "    }\n",
              "\n",
              "    .dataframe tbody tr th {\n",
              "        vertical-align: top;\n",
              "    }\n",
              "\n",
              "    .dataframe thead th {\n",
              "        text-align: right;\n",
              "    }\n",
              "</style>\n",
              "<table border=\"1\" class=\"dataframe\">\n",
              "  <thead>\n",
              "    <tr style=\"text-align: right;\">\n",
              "      <th></th>\n",
              "      <th>Quantidade</th>\n",
              "    </tr>\n",
              "    <tr>\n",
              "      <th>Dimensão</th>\n",
              "      <th></th>\n",
              "    </tr>\n",
              "  </thead>\n",
              "  <tbody>\n",
              "    <tr>\n",
              "      <th>Eficácia</th>\n",
              "      <td>639</td>\n",
              "    </tr>\n",
              "    <tr>\n",
              "      <th>Eficiência</th>\n",
              "      <td>359</td>\n",
              "    </tr>\n",
              "    <tr>\n",
              "      <th>Utilidade</th>\n",
              "      <td>285</td>\n",
              "    </tr>\n",
              "    <tr>\n",
              "      <th>Aprendizado</th>\n",
              "      <td>5</td>\n",
              "    </tr>\n",
              "    <tr>\n",
              "      <th>Segurança</th>\n",
              "      <td>1</td>\n",
              "    </tr>\n",
              "  </tbody>\n",
              "</table>\n",
              "</div>\n",
              "    <div class=\"colab-df-buttons\">\n",
              "\n",
              "  <div class=\"colab-df-container\">\n",
              "    <button class=\"colab-df-convert\" onclick=\"convertToInteractive('df-10f30e32-1977-4425-b3b6-3a4f05179793')\"\n",
              "            title=\"Convert this dataframe to an interactive table.\"\n",
              "            style=\"display:none;\">\n",
              "\n",
              "  <svg xmlns=\"http://www.w3.org/2000/svg\" height=\"24px\" viewBox=\"0 -960 960 960\">\n",
              "    <path d=\"M120-120v-720h720v720H120Zm60-500h600v-160H180v160Zm220 220h160v-160H400v160Zm0 220h160v-160H400v160ZM180-400h160v-160H180v160Zm440 0h160v-160H620v160ZM180-180h160v-160H180v160Zm440 0h160v-160H620v160Z\"/>\n",
              "  </svg>\n",
              "    </button>\n",
              "\n",
              "  <style>\n",
              "    .colab-df-container {\n",
              "      display:flex;\n",
              "      gap: 12px;\n",
              "    }\n",
              "\n",
              "    .colab-df-convert {\n",
              "      background-color: #E8F0FE;\n",
              "      border: none;\n",
              "      border-radius: 50%;\n",
              "      cursor: pointer;\n",
              "      display: none;\n",
              "      fill: #1967D2;\n",
              "      height: 32px;\n",
              "      padding: 0 0 0 0;\n",
              "      width: 32px;\n",
              "    }\n",
              "\n",
              "    .colab-df-convert:hover {\n",
              "      background-color: #E2EBFA;\n",
              "      box-shadow: 0px 1px 2px rgba(60, 64, 67, 0.3), 0px 1px 3px 1px rgba(60, 64, 67, 0.15);\n",
              "      fill: #174EA6;\n",
              "    }\n",
              "\n",
              "    .colab-df-buttons div {\n",
              "      margin-bottom: 4px;\n",
              "    }\n",
              "\n",
              "    [theme=dark] .colab-df-convert {\n",
              "      background-color: #3B4455;\n",
              "      fill: #D2E3FC;\n",
              "    }\n",
              "\n",
              "    [theme=dark] .colab-df-convert:hover {\n",
              "      background-color: #434B5C;\n",
              "      box-shadow: 0px 1px 3px 1px rgba(0, 0, 0, 0.15);\n",
              "      filter: drop-shadow(0px 1px 2px rgba(0, 0, 0, 0.3));\n",
              "      fill: #FFFFFF;\n",
              "    }\n",
              "  </style>\n",
              "\n",
              "    <script>\n",
              "      const buttonEl =\n",
              "        document.querySelector('#df-10f30e32-1977-4425-b3b6-3a4f05179793 button.colab-df-convert');\n",
              "      buttonEl.style.display =\n",
              "        google.colab.kernel.accessAllowed ? 'block' : 'none';\n",
              "\n",
              "      async function convertToInteractive(key) {\n",
              "        const element = document.querySelector('#df-10f30e32-1977-4425-b3b6-3a4f05179793');\n",
              "        const dataTable =\n",
              "          await google.colab.kernel.invokeFunction('convertToInteractive',\n",
              "                                                    [key], {});\n",
              "        if (!dataTable) return;\n",
              "\n",
              "        const docLinkHtml = 'Like what you see? Visit the ' +\n",
              "          '<a target=\"_blank\" href=https://colab.research.google.com/notebooks/data_table.ipynb>data table notebook</a>'\n",
              "          + ' to learn more about interactive tables.';\n",
              "        element.innerHTML = '';\n",
              "        dataTable['output_type'] = 'display_data';\n",
              "        await google.colab.output.renderOutput(dataTable, element);\n",
              "        const docLink = document.createElement('div');\n",
              "        docLink.innerHTML = docLinkHtml;\n",
              "        element.appendChild(docLink);\n",
              "      }\n",
              "    </script>\n",
              "  </div>\n",
              "\n",
              "\n",
              "<div id=\"df-ca9c018c-4320-41c6-a055-a650ca4cab55\">\n",
              "  <button class=\"colab-df-quickchart\" onclick=\"quickchart('df-ca9c018c-4320-41c6-a055-a650ca4cab55')\"\n",
              "            title=\"Suggest charts.\"\n",
              "            style=\"display:none;\">\n",
              "\n",
              "<svg xmlns=\"http://www.w3.org/2000/svg\" height=\"24px\"viewBox=\"0 0 24 24\"\n",
              "     width=\"24px\">\n",
              "    <g>\n",
              "        <path d=\"M19 3H5c-1.1 0-2 .9-2 2v14c0 1.1.9 2 2 2h14c1.1 0 2-.9 2-2V5c0-1.1-.9-2-2-2zM9 17H7v-7h2v7zm4 0h-2V7h2v10zm4 0h-2v-4h2v4z\"/>\n",
              "    </g>\n",
              "</svg>\n",
              "  </button>\n",
              "\n",
              "<style>\n",
              "  .colab-df-quickchart {\n",
              "      --bg-color: #E8F0FE;\n",
              "      --fill-color: #1967D2;\n",
              "      --hover-bg-color: #E2EBFA;\n",
              "      --hover-fill-color: #174EA6;\n",
              "      --disabled-fill-color: #AAA;\n",
              "      --disabled-bg-color: #DDD;\n",
              "  }\n",
              "\n",
              "  [theme=dark] .colab-df-quickchart {\n",
              "      --bg-color: #3B4455;\n",
              "      --fill-color: #D2E3FC;\n",
              "      --hover-bg-color: #434B5C;\n",
              "      --hover-fill-color: #FFFFFF;\n",
              "      --disabled-bg-color: #3B4455;\n",
              "      --disabled-fill-color: #666;\n",
              "  }\n",
              "\n",
              "  .colab-df-quickchart {\n",
              "    background-color: var(--bg-color);\n",
              "    border: none;\n",
              "    border-radius: 50%;\n",
              "    cursor: pointer;\n",
              "    display: none;\n",
              "    fill: var(--fill-color);\n",
              "    height: 32px;\n",
              "    padding: 0;\n",
              "    width: 32px;\n",
              "  }\n",
              "\n",
              "  .colab-df-quickchart:hover {\n",
              "    background-color: var(--hover-bg-color);\n",
              "    box-shadow: 0 1px 2px rgba(60, 64, 67, 0.3), 0 1px 3px 1px rgba(60, 64, 67, 0.15);\n",
              "    fill: var(--button-hover-fill-color);\n",
              "  }\n",
              "\n",
              "  .colab-df-quickchart-complete:disabled,\n",
              "  .colab-df-quickchart-complete:disabled:hover {\n",
              "    background-color: var(--disabled-bg-color);\n",
              "    fill: var(--disabled-fill-color);\n",
              "    box-shadow: none;\n",
              "  }\n",
              "\n",
              "  .colab-df-spinner {\n",
              "    border: 2px solid var(--fill-color);\n",
              "    border-color: transparent;\n",
              "    border-bottom-color: var(--fill-color);\n",
              "    animation:\n",
              "      spin 1s steps(1) infinite;\n",
              "  }\n",
              "\n",
              "  @keyframes spin {\n",
              "    0% {\n",
              "      border-color: transparent;\n",
              "      border-bottom-color: var(--fill-color);\n",
              "      border-left-color: var(--fill-color);\n",
              "    }\n",
              "    20% {\n",
              "      border-color: transparent;\n",
              "      border-left-color: var(--fill-color);\n",
              "      border-top-color: var(--fill-color);\n",
              "    }\n",
              "    30% {\n",
              "      border-color: transparent;\n",
              "      border-left-color: var(--fill-color);\n",
              "      border-top-color: var(--fill-color);\n",
              "      border-right-color: var(--fill-color);\n",
              "    }\n",
              "    40% {\n",
              "      border-color: transparent;\n",
              "      border-right-color: var(--fill-color);\n",
              "      border-top-color: var(--fill-color);\n",
              "    }\n",
              "    60% {\n",
              "      border-color: transparent;\n",
              "      border-right-color: var(--fill-color);\n",
              "    }\n",
              "    80% {\n",
              "      border-color: transparent;\n",
              "      border-right-color: var(--fill-color);\n",
              "      border-bottom-color: var(--fill-color);\n",
              "    }\n",
              "    90% {\n",
              "      border-color: transparent;\n",
              "      border-bottom-color: var(--fill-color);\n",
              "    }\n",
              "  }\n",
              "</style>\n",
              "\n",
              "  <script>\n",
              "    async function quickchart(key) {\n",
              "      const quickchartButtonEl =\n",
              "        document.querySelector('#' + key + ' button');\n",
              "      quickchartButtonEl.disabled = true;  // To prevent multiple clicks.\n",
              "      quickchartButtonEl.classList.add('colab-df-spinner');\n",
              "      try {\n",
              "        const charts = await google.colab.kernel.invokeFunction(\n",
              "            'suggestCharts', [key], {});\n",
              "      } catch (error) {\n",
              "        console.error('Error during call to suggestCharts:', error);\n",
              "      }\n",
              "      quickchartButtonEl.classList.remove('colab-df-spinner');\n",
              "      quickchartButtonEl.classList.add('colab-df-quickchart-complete');\n",
              "    }\n",
              "    (() => {\n",
              "      let quickchartButtonEl =\n",
              "        document.querySelector('#df-ca9c018c-4320-41c6-a055-a650ca4cab55 button');\n",
              "      quickchartButtonEl.style.display =\n",
              "        google.colab.kernel.accessAllowed ? 'block' : 'none';\n",
              "    })();\n",
              "  </script>\n",
              "</div>\n",
              "    </div>\n",
              "  </div>\n"
            ]
          },
          "metadata": {},
          "execution_count": 97
        }
      ]
    },
    {
      "cell_type": "code",
      "source": [
        "Dimensao = ['Eficácia', 'Eficiência', 'Utilidade', 'Aprendizado', 'Segurança']\n",
        "Quantidade = [639, 359, 285, 5, 1]"
      ],
      "metadata": {
        "id": "z4wIZk801U4V"
      },
      "execution_count": null,
      "outputs": []
    },
    {
      "cell_type": "code",
      "source": [
        "fig, ax = plt.subplots(figsize=(8,6))\n",
        "\n",
        "usab = Dimensao\n",
        "quatidade = Quantidade\n",
        "\n",
        "plt.xticks(rotation=80)\n",
        "\n",
        "for i, valor in enumerate(quatidade):\n",
        "    plt.text(i, valor + 1, str(valor), ha='center', va='bottom', fontsize=10)\n",
        "\n",
        "ax.bar(usab, quatidade, color='#8A25E5')\n",
        "\n",
        "ax.set_ylabel('Quantidade')\n",
        "ax.set_title('Ocorrências de problemas relacionadas a usabilidade nas PRUs do tipo Crítica')\n",
        "\n",
        "plt.show()"
      ],
      "metadata": {
        "colab": {
          "base_uri": "https://localhost:8080/",
          "height": 619
        },
        "id": "8NMR_3_G1clN",
        "outputId": "e1e65a7e-f4b1-44fe-c500-d85b5a7b98b7"
      },
      "execution_count": null,
      "outputs": [
        {
          "output_type": "display_data",
          "data": {
            "text/plain": [
              "<Figure size 800x600 with 1 Axes>"
            ],
            "image/png": "[encoded data removed]"
          },
          "metadata": {}
        }
      ]
    },
    {
      "cell_type": "markdown",
      "source": [
        "### Experiência do Usuário"
      ],
      "metadata": {
        "id": "xbon8E-i2V6c"
      }
    },
    {
      "cell_type": "code",
      "source": [
        "labels = ['Frustração']\n",
        "sizes = [853]\n",
        "\n",
        "fig, ax = plt.subplots()\n",
        "wedges, texts, autotexts = ax.pie(sizes, labels=labels, colors=['#6D0DD1'], autopct='')\n",
        "\n",
        "for i, val in enumerate(sizes):\n",
        "    autotexts[i].set_text(str(val))\n",
        "\n",
        "for autotext in autotexts:\n",
        "    autotext.set_color('white')\n",
        "\n",
        "plt.show()"
      ],
      "metadata": {
        "colab": {
          "base_uri": "https://localhost:8080/",
          "height": 406
        },
        "id": "ZKpxngag2dUc",
        "outputId": "c92c7242-06cb-474a-e554-862ca366b9bd"
      },
      "execution_count": null,
      "outputs": [
        {
          "output_type": "display_data",
          "data": {
            "text/plain": [
              "<Figure size 640x480 with 1 Axes>"
            ],
            "image/png": "[encoded data removed]"
          },
          "metadata": {}
        }
      ]
    }
  ]
}