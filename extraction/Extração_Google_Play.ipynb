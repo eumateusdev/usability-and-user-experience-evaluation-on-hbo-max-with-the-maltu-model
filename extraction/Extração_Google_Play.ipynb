{
  "nbformat": 4,
  "nbformat_minor": 0,
  "metadata": {
    "colab": {
      "provenance": []
    },
    "kernelspec": {
      "name": "python3",
      "display_name": "Python 3"
    },
    "language_info": {
      "name": "python"
    }
  },
  "cells": [
    {
      "cell_type": "code",
      "source": [
        "pip install google-play-scraper"
      ],
      "metadata": {
        "id": "d-a6zi154gzd"
      },
      "execution_count": null,
      "outputs": []
    },
    {
      "cell_type": "code",
      "source": [
        "from google_play_scraper import Sort, reviews\n",
        "\n",
        "result, continuation_token = reviews(\n",
        "    'com.hbo.hbonow', #aplicativo\n",
        "    lang='pt_BR', #linguagem\n",
        "    country='br', # país\n",
        "    sort=Sort.NEWEST, # mais recentes\n",
        "    count=1000, # quantidade\n",
        "    filter_score_with= None # None = todas as avaliações\n",
        ")\n"
      ],
      "metadata": {
        "id": "JzVVNPUb5TRd"
      },
      "execution_count": null,
      "outputs": []
    },
    {
      "cell_type": "code",
      "source": [
        "print(result)"
      ],
      "metadata": {
        "id": "eeQ_PsiI5w7F"
      },
      "execution_count": null,
      "outputs": []
    },
    {
      "cell_type": "code",
      "source": [
        "import pandas as pd"
      ],
      "metadata": {
        "id": "PeqQt4A17UBP"
      },
      "execution_count": null,
      "outputs": []
    },
    {
      "cell_type": "code",
      "source": [
        "planilha = pd.DataFrame(result)"
      ],
      "metadata": {
        "id": "P6H6kmAB7kXc"
      },
      "execution_count": null,
      "outputs": []
    },
    {
      "cell_type": "code",
      "source": [
        "planilha"
      ],
      "metadata": {
        "id": "3mJNvoMN8JY9"
      },
      "execution_count": null,
      "outputs": []
    },
    {
      "cell_type": "code",
      "source": [
        "planilha = planilha[['userName', 'content', 'score', 'reviewCreatedVersion', 'at']]"
      ],
      "metadata": {
        "id": "YBqEaHRmEWw-"
      },
      "execution_count": null,
      "outputs": []
    },
    {
      "cell_type": "code",
      "source": [
        "planilha"
      ],
      "metadata": {
        "id": "l8n__2YkEows"
      },
      "execution_count": null,
      "outputs": []
    },
    {
      "cell_type": "code",
      "source": [
        "planilha.to_excel(\"planilha googleplay.xlsx\", index=False)"
      ],
      "metadata": {
        "id": "8atuaWVR8fYu"
      },
      "execution_count": null,
      "outputs": []
    }
  ]
}