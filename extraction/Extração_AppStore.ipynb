{
  "nbformat": 4,
  "nbformat_minor": 0,
  "metadata": {
    "colab": {
      "provenance": []
    },
    "kernelspec": {
      "name": "python3",
      "display_name": "Python 3"
    },
    "language_info": {
      "name": "python"
    }
  },
  "cells": [
    {
      "cell_type": "code",
      "source": [
        "pip install app-store-scraper"
      ],
      "metadata": {
        "id": "d-a6zi154gzd"
      },
      "execution_count": null,
      "outputs": []
    },
    {
      "cell_type": "code",
      "source": [
        "from app_store_scraper import AppStore\n",
        "from pprint import pprint\n",
        "\n",
        "hbomax = AppStore(country=\"br\", app_name=\"hbo-max-veja-filmes-e-séries\")\n",
        "hbomax.review(how_many=1000)\n",
        "\n"
      ],
      "metadata": {
        "id": "F_Hqbs6t_K3N"
      },
      "execution_count": null,
      "outputs": []
    },
    {
      "cell_type": "code",
      "source": [
        "pprint(hbomax.reviews)\n",
        "pprint(hbomax.reviews_count)"
      ],
      "metadata": {
        "id": "MGAKTni9AGr9"
      },
      "execution_count": null,
      "outputs": []
    },
    {
      "cell_type": "code",
      "source": [
        "hbomax.reviews"
      ],
      "metadata": {
        "id": "Z9jDs3lV__6V"
      },
      "execution_count": null,
      "outputs": []
    },
    {
      "cell_type": "code",
      "source": [
        "import pandas as pd"
      ],
      "metadata": {
        "id": "PeqQt4A17UBP"
      },
      "execution_count": null,
      "outputs": []
    },
    {
      "cell_type": "code",
      "source": [
        "planilha = pd.DataFrame(hbomax.reviews)"
      ],
      "metadata": {
        "id": "P6H6kmAB7kXc"
      },
      "execution_count": null,
      "outputs": []
    },
    {
      "cell_type": "code",
      "source": [
        "planilha"
      ],
      "metadata": {
        "id": "3mJNvoMN8JY9"
      },
      "execution_count": null,
      "outputs": []
    },
    {
      "cell_type": "code",
      "source": [
        "planilha = planilha.iloc[:,0:6]"
      ],
      "metadata": {
        "id": "dfgdPjxOBG3V"
      },
      "execution_count": null,
      "outputs": []
    },
    {
      "cell_type": "code",
      "source": [
        "planilha"
      ],
      "metadata": {
        "id": "M3EcdeHjBm1W"
      },
      "execution_count": null,
      "outputs": []
    },
    {
      "cell_type": "code",
      "source": [
        "planilha.to_excel(\"planilha appstore.xlsx\", index=False)"
      ],
      "metadata": {
        "id": "8atuaWVR8fYu"
      },
      "execution_count": null,
      "outputs": []
    }
  ]
}